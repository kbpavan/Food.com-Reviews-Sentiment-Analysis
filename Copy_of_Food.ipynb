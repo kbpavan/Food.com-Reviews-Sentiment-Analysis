{
  "nbformat": 4,
  "nbformat_minor": 0,
  "metadata": {
    "colab": {
      "name": "Copy of Food.ipynb",
      "provenance": [],
      "collapsed_sections": [
        "hu672a1iqsVe",
        "v4JoNNjvnKbC",
        "uMRHB2SBIDnd",
        "8d7yhlElUfFy",
        "kPVaihcIfKMN",
        "sUo2NPuLQyTM",
        "w5SA2pyDp_bM",
        "SJEre2ulvPbD",
        "w3buveMkx61n",
        "5NS-C-BsDYRD",
        "Ome_JwHnwlAg"
      ],
      "toc_visible": true,
      "machine_shape": "hm",
      "authorship_tag": "ABX9TyPClu9dIn7gKdYDgYO3NwoT",
      "include_colab_link": true
    },
    "kernelspec": {
      "name": "python3",
      "display_name": "Python 3"
    }
  },
  "cells": [
    {
      "cell_type": "markdown",
      "metadata": {
        "id": "view-in-github",
        "colab_type": "text"
      },
      "source": [
        "<a href=\"https://colab.research.google.com/github/kbpavan/Food.com-Reviews-Sentiment-Analysis/blob/master/Copy_of_Food.ipynb\" target=\"_parent\"><img src=\"https://colab.research.google.com/assets/colab-badge.svg\" alt=\"Open In Colab\"/></a>"
      ]
    },
    {
      "cell_type": "code",
      "metadata": {
        "id": "yhcdNsIgdoBy",
        "colab_type": "code",
        "outputId": "172bf728-68ff-4126-cd2b-630e89f3a070",
        "colab": {
          "base_uri": "https://localhost:8080/",
          "height": 122
        }
      },
      "source": [
        "from google.colab import drive\n",
        "drive.mount('/content/drive')"
      ],
      "execution_count": 1,
      "outputs": [
        {
          "output_type": "stream",
          "text": [
            "Go to this URL in a browser: https://accounts.google.com/o/oauth2/auth?client_id=947318989803-6bn6qk8qdgf4n4g3pfee6491hc0brc4i.apps.googleusercontent.com&redirect_uri=urn%3aietf%3awg%3aoauth%3a2.0%3aoob&response_type=code&scope=email%20https%3a%2f%2fwww.googleapis.com%2fauth%2fdocs.test%20https%3a%2f%2fwww.googleapis.com%2fauth%2fdrive%20https%3a%2f%2fwww.googleapis.com%2fauth%2fdrive.photos.readonly%20https%3a%2f%2fwww.googleapis.com%2fauth%2fpeopleapi.readonly\n",
            "\n",
            "Enter your authorization code:\n",
            "··········\n",
            "Mounted at /content/drive\n"
          ],
          "name": "stdout"
        }
      ]
    },
    {
      "cell_type": "code",
      "metadata": {
        "id": "6eGOoOVih8mu",
        "colab_type": "code",
        "outputId": "96b9d449-e911-46f7-d8c8-a20f52cebecb",
        "colab": {
          "base_uri": "https://localhost:8080/",
          "height": 170
        }
      },
      "source": [
        "pip install apyori"
      ],
      "execution_count": 3,
      "outputs": [
        {
          "output_type": "stream",
          "text": [
            "Collecting apyori\n",
            "  Downloading https://files.pythonhosted.org/packages/5e/62/5ffde5c473ea4b033490617ec5caa80d59804875ad3c3c57c0976533a21a/apyori-1.1.2.tar.gz\n",
            "Building wheels for collected packages: apyori\n",
            "  Building wheel for apyori (setup.py) ... \u001b[?25l\u001b[?25hdone\n",
            "  Created wheel for apyori: filename=apyori-1.1.2-cp36-none-any.whl size=5975 sha256=219eefafffa4b0b3bbc62f10d6db22d49727ebccb66b8a98ab1d28063f3d2880\n",
            "  Stored in directory: /root/.cache/pip/wheels/5d/92/bb/474bbadbc8c0062b9eb168f69982a0443263f8ab1711a8cad0\n",
            "Successfully built apyori\n",
            "Installing collected packages: apyori\n",
            "Successfully installed apyori-1.1.2\n"
          ],
          "name": "stdout"
        }
      ]
    },
    {
      "cell_type": "code",
      "metadata": {
        "id": "K3g0oaiYPH49",
        "colab_type": "code",
        "outputId": "3a9d9e89-fb93-48be-8812-97190b5b1de7",
        "colab": {
          "base_uri": "https://localhost:8080/",
          "height": 51
        }
      },
      "source": [
        "import pandas as pd\n",
        "import numpy as np\n",
        "import matplotlib.pyplot as plt\n",
        "import seaborn as sns\n",
        "import re\n",
        "import time\n",
        "import string\n",
        "import nltk\n",
        "from sklearn.model_selection import train_test_split\n",
        "from sklearn.feature_extraction.text import TfidfTransformer\n",
        "from sklearn.feature_extraction.text import TfidfVectorizer\n",
        "\n",
        "from sklearn.feature_extraction.text import CountVectorizer\n",
        "from sklearn.metrics import confusion_matrix\n",
        "from sklearn.neighbors import KNeighborsClassifier\n",
        "from sklearn.ensemble import RandomForestClassifier\n",
        "from  xgboost import XGBClassifier\n",
        "\n",
        "\n",
        "from apyori import apriori\n",
        "from sklearn.cluster import KMeans\n",
        "from sklearn import metrics\n",
        "from sklearn.model_selection import cross_val_score\n",
        "from sklearn.metrics import roc_auc_score\n",
        "from sklearn.metrics import accuracy_score\n",
        "from sklearn.metrics import classification_report\n",
        "from sklearn.metrics import silhouette_score\n",
        "\n",
        "from sklearn.metrics import roc_curve, auc\n",
        "from nltk.corpus import stopwords\n",
        "from nltk.stem import PorterStemmer\n",
        "from nltk.stem.wordnet import WordNetLemmatizer\n",
        "from nltk.stem import WordNetLemmatizer\n",
        "import nltk\n",
        "nltk.download('wordnet')\n",
        "from bs4 import BeautifulSoup\n",
        "\n",
        "from gensim.models import Word2Vec\n",
        "from gensim.models import KeyedVectors\n",
        "\n",
        "import pickle\n",
        "\n",
        "from tqdm import tqdm\n",
        "import os"
      ],
      "execution_count": 4,
      "outputs": [
        {
          "output_type": "stream",
          "text": [
            "[nltk_data] Downloading package wordnet to /root/nltk_data...\n",
            "[nltk_data]   Unzipping corpora/wordnet.zip.\n"
          ],
          "name": "stdout"
        }
      ]
    },
    {
      "cell_type": "markdown",
      "metadata": {
        "id": "X9Tu4q1MSLbr",
        "colab_type": "text"
      },
      "source": [
        "**Reading the data**"
      ]
    },
    {
      "cell_type": "code",
      "metadata": {
        "id": "oMbRSitVSM1W",
        "colab_type": "code",
        "colab": {}
      },
      "source": [
        "Recipes = pd.read_csv('/content/drive/My Drive/Colab Notebooks/Food_Data/RAW_recipes.csv')\n",
        "Interactions  = pd.read_csv('/content/drive/My Drive/Colab Notebooks/Food_Data/RAW_interactions.csv')\n"
      ],
      "execution_count": 0,
      "outputs": []
    },
    {
      "cell_type": "markdown",
      "metadata": {
        "id": "j3pPO0yKU5cU",
        "colab_type": "text"
      },
      "source": [
        "**Let's look at Interactions Data**"
      ]
    },
    {
      "cell_type": "code",
      "metadata": {
        "id": "a_n6jhqDU4oD",
        "colab_type": "code",
        "outputId": "b6e2a67f-e00e-484b-de9c-3db3ecd1e222",
        "colab": {
          "base_uri": "https://localhost:8080/",
          "height": 197
        }
      },
      "source": [
        "Interactions.head(n=5)"
      ],
      "execution_count": 6,
      "outputs": [
        {
          "output_type": "execute_result",
          "data": {
            "text/html": [
              "<div>\n",
              "<style scoped>\n",
              "    .dataframe tbody tr th:only-of-type {\n",
              "        vertical-align: middle;\n",
              "    }\n",
              "\n",
              "    .dataframe tbody tr th {\n",
              "        vertical-align: top;\n",
              "    }\n",
              "\n",
              "    .dataframe thead th {\n",
              "        text-align: right;\n",
              "    }\n",
              "</style>\n",
              "<table border=\"1\" class=\"dataframe\">\n",
              "  <thead>\n",
              "    <tr style=\"text-align: right;\">\n",
              "      <th></th>\n",
              "      <th>user_id</th>\n",
              "      <th>recipe_id</th>\n",
              "      <th>date</th>\n",
              "      <th>rating</th>\n",
              "      <th>review</th>\n",
              "    </tr>\n",
              "  </thead>\n",
              "  <tbody>\n",
              "    <tr>\n",
              "      <th>0</th>\n",
              "      <td>38094</td>\n",
              "      <td>40893</td>\n",
              "      <td>2003-02-17</td>\n",
              "      <td>4</td>\n",
              "      <td>Great with a salad. Cooked on top of stove for...</td>\n",
              "    </tr>\n",
              "    <tr>\n",
              "      <th>1</th>\n",
              "      <td>1293707</td>\n",
              "      <td>40893</td>\n",
              "      <td>2011-12-21</td>\n",
              "      <td>5</td>\n",
              "      <td>So simple, so delicious! Great for chilly fall...</td>\n",
              "    </tr>\n",
              "    <tr>\n",
              "      <th>2</th>\n",
              "      <td>8937</td>\n",
              "      <td>44394</td>\n",
              "      <td>2002-12-01</td>\n",
              "      <td>4</td>\n",
              "      <td>This worked very well and is EASY.  I used not...</td>\n",
              "    </tr>\n",
              "    <tr>\n",
              "      <th>3</th>\n",
              "      <td>126440</td>\n",
              "      <td>85009</td>\n",
              "      <td>2010-02-27</td>\n",
              "      <td>5</td>\n",
              "      <td>I made the Mexican topping and took it to bunk...</td>\n",
              "    </tr>\n",
              "    <tr>\n",
              "      <th>4</th>\n",
              "      <td>57222</td>\n",
              "      <td>85009</td>\n",
              "      <td>2011-10-01</td>\n",
              "      <td>5</td>\n",
              "      <td>Made the cheddar bacon topping, adding a sprin...</td>\n",
              "    </tr>\n",
              "  </tbody>\n",
              "</table>\n",
              "</div>"
            ],
            "text/plain": [
              "   user_id  ...                                             review\n",
              "0    38094  ...  Great with a salad. Cooked on top of stove for...\n",
              "1  1293707  ...  So simple, so delicious! Great for chilly fall...\n",
              "2     8937  ...  This worked very well and is EASY.  I used not...\n",
              "3   126440  ...  I made the Mexican topping and took it to bunk...\n",
              "4    57222  ...  Made the cheddar bacon topping, adding a sprin...\n",
              "\n",
              "[5 rows x 5 columns]"
            ]
          },
          "metadata": {
            "tags": []
          },
          "execution_count": 6
        }
      ]
    },
    {
      "cell_type": "markdown",
      "metadata": {
        "id": "UAqh5VpR-hJR",
        "colab_type": "text"
      },
      "source": [
        "**Now Let's look at recipes Data**"
      ]
    },
    {
      "cell_type": "code",
      "metadata": {
        "id": "FE2CPq78usvl",
        "colab_type": "code",
        "outputId": "71b83804-2ae4-49cb-a563-8279e2df0cc9",
        "colab": {
          "base_uri": "https://localhost:8080/",
          "height": 282
        }
      },
      "source": [
        "Recipes.head(n=5)"
      ],
      "execution_count": 7,
      "outputs": [
        {
          "output_type": "execute_result",
          "data": {
            "text/html": [
              "<div>\n",
              "<style scoped>\n",
              "    .dataframe tbody tr th:only-of-type {\n",
              "        vertical-align: middle;\n",
              "    }\n",
              "\n",
              "    .dataframe tbody tr th {\n",
              "        vertical-align: top;\n",
              "    }\n",
              "\n",
              "    .dataframe thead th {\n",
              "        text-align: right;\n",
              "    }\n",
              "</style>\n",
              "<table border=\"1\" class=\"dataframe\">\n",
              "  <thead>\n",
              "    <tr style=\"text-align: right;\">\n",
              "      <th></th>\n",
              "      <th>name</th>\n",
              "      <th>id</th>\n",
              "      <th>minutes</th>\n",
              "      <th>contributor_id</th>\n",
              "      <th>submitted</th>\n",
              "      <th>tags</th>\n",
              "      <th>nutrition</th>\n",
              "      <th>n_steps</th>\n",
              "      <th>steps</th>\n",
              "      <th>description</th>\n",
              "      <th>ingredients</th>\n",
              "      <th>n_ingredients</th>\n",
              "    </tr>\n",
              "  </thead>\n",
              "  <tbody>\n",
              "    <tr>\n",
              "      <th>0</th>\n",
              "      <td>arriba   baked winter squash mexican style</td>\n",
              "      <td>137739</td>\n",
              "      <td>55</td>\n",
              "      <td>47892</td>\n",
              "      <td>2005-09-16</td>\n",
              "      <td>['60-minutes-or-less', 'time-to-make', 'course...</td>\n",
              "      <td>[51.5, 0.0, 13.0, 0.0, 2.0, 0.0, 4.0]</td>\n",
              "      <td>11</td>\n",
              "      <td>['make a choice and proceed with recipe', 'dep...</td>\n",
              "      <td>autumn is my favorite time of year to cook! th...</td>\n",
              "      <td>['winter squash', 'mexican seasoning', 'mixed ...</td>\n",
              "      <td>7</td>\n",
              "    </tr>\n",
              "    <tr>\n",
              "      <th>1</th>\n",
              "      <td>a bit different  breakfast pizza</td>\n",
              "      <td>31490</td>\n",
              "      <td>30</td>\n",
              "      <td>26278</td>\n",
              "      <td>2002-06-17</td>\n",
              "      <td>['30-minutes-or-less', 'time-to-make', 'course...</td>\n",
              "      <td>[173.4, 18.0, 0.0, 17.0, 22.0, 35.0, 1.0]</td>\n",
              "      <td>9</td>\n",
              "      <td>['preheat oven to 425 degrees f', 'press dough...</td>\n",
              "      <td>this recipe calls for the crust to be prebaked...</td>\n",
              "      <td>['prepared pizza crust', 'sausage patty', 'egg...</td>\n",
              "      <td>6</td>\n",
              "    </tr>\n",
              "    <tr>\n",
              "      <th>2</th>\n",
              "      <td>all in the kitchen  chili</td>\n",
              "      <td>112140</td>\n",
              "      <td>130</td>\n",
              "      <td>196586</td>\n",
              "      <td>2005-02-25</td>\n",
              "      <td>['time-to-make', 'course', 'preparation', 'mai...</td>\n",
              "      <td>[269.8, 22.0, 32.0, 48.0, 39.0, 27.0, 5.0]</td>\n",
              "      <td>6</td>\n",
              "      <td>['brown ground beef in large pot', 'add choppe...</td>\n",
              "      <td>this modified version of 'mom's' chili was a h...</td>\n",
              "      <td>['ground beef', 'yellow onions', 'diced tomato...</td>\n",
              "      <td>13</td>\n",
              "    </tr>\n",
              "    <tr>\n",
              "      <th>3</th>\n",
              "      <td>alouette  potatoes</td>\n",
              "      <td>59389</td>\n",
              "      <td>45</td>\n",
              "      <td>68585</td>\n",
              "      <td>2003-04-14</td>\n",
              "      <td>['60-minutes-or-less', 'time-to-make', 'course...</td>\n",
              "      <td>[368.1, 17.0, 10.0, 2.0, 14.0, 8.0, 20.0]</td>\n",
              "      <td>11</td>\n",
              "      <td>['place potatoes in a large pot of lightly sal...</td>\n",
              "      <td>this is a super easy, great tasting, make ahea...</td>\n",
              "      <td>['spreadable cheese with garlic and herbs', 'n...</td>\n",
              "      <td>11</td>\n",
              "    </tr>\n",
              "    <tr>\n",
              "      <th>4</th>\n",
              "      <td>amish  tomato ketchup  for canning</td>\n",
              "      <td>44061</td>\n",
              "      <td>190</td>\n",
              "      <td>41706</td>\n",
              "      <td>2002-10-25</td>\n",
              "      <td>['weeknight', 'time-to-make', 'course', 'main-...</td>\n",
              "      <td>[352.9, 1.0, 337.0, 23.0, 3.0, 0.0, 28.0]</td>\n",
              "      <td>5</td>\n",
              "      <td>['mix all ingredients&amp; boil for 2 1 / 2 hours ...</td>\n",
              "      <td>my dh's amish mother raised him on this recipe...</td>\n",
              "      <td>['tomato juice', 'apple cider vinegar', 'sugar...</td>\n",
              "      <td>8</td>\n",
              "    </tr>\n",
              "  </tbody>\n",
              "</table>\n",
              "</div>"
            ],
            "text/plain": [
              "                                         name  ...  n_ingredients\n",
              "0  arriba   baked winter squash mexican style  ...              7\n",
              "1            a bit different  breakfast pizza  ...              6\n",
              "2                   all in the kitchen  chili  ...             13\n",
              "3                          alouette  potatoes  ...             11\n",
              "4          amish  tomato ketchup  for canning  ...              8\n",
              "\n",
              "[5 rows x 12 columns]"
            ]
          },
          "metadata": {
            "tags": []
          },
          "execution_count": 7
        }
      ]
    },
    {
      "cell_type": "markdown",
      "metadata": {
        "id": "p06kDlsnNUHR",
        "colab_type": "text"
      },
      "source": [
        "**Joining Interations data with the original recipe data**"
      ]
    },
    {
      "cell_type": "code",
      "metadata": {
        "id": "8dLMDyoPNa6o",
        "colab_type": "code",
        "outputId": "7bcb2baa-7eba-4644-9f07-c5924b9dc828",
        "colab": {
          "base_uri": "https://localhost:8080/",
          "height": 392
        }
      },
      "source": [
        "Merged_Data2 = pd.merge(Recipes,Interactions, how=\"outer\", left_on = 'id', right_on= 'recipe_id')\n",
        "Merged_Data2.info()\n"
      ],
      "execution_count": 8,
      "outputs": [
        {
          "output_type": "stream",
          "text": [
            "<class 'pandas.core.frame.DataFrame'>\n",
            "Int64Index: 1132367 entries, 0 to 1132366\n",
            "Data columns (total 17 columns):\n",
            "name              1132366 non-null object\n",
            "id                1132367 non-null int64\n",
            "minutes           1132367 non-null int64\n",
            "contributor_id    1132367 non-null int64\n",
            "submitted         1132367 non-null object\n",
            "tags              1132367 non-null object\n",
            "nutrition         1132367 non-null object\n",
            "n_steps           1132367 non-null int64\n",
            "steps             1132367 non-null object\n",
            "description       1108857 non-null object\n",
            "ingredients       1132367 non-null object\n",
            "n_ingredients     1132367 non-null int64\n",
            "user_id           1132367 non-null int64\n",
            "recipe_id         1132367 non-null int64\n",
            "date              1132367 non-null object\n",
            "rating            1132367 non-null int64\n",
            "review            1132198 non-null object\n",
            "dtypes: int64(8), object(9)\n",
            "memory usage: 155.5+ MB\n"
          ],
          "name": "stdout"
        }
      ]
    },
    {
      "cell_type": "code",
      "metadata": {
        "id": "ANFO94BwO1PX",
        "colab_type": "code",
        "outputId": "5fb29a7b-9b12-4cd9-8bec-cb2a25f09f2a",
        "colab": {
          "base_uri": "https://localhost:8080/",
          "height": 34
        }
      },
      "source": [
        "len(Merged_Data2)"
      ],
      "execution_count": 9,
      "outputs": [
        {
          "output_type": "execute_result",
          "data": {
            "text/plain": [
              "1132367"
            ]
          },
          "metadata": {
            "tags": []
          },
          "execution_count": 9
        }
      ]
    },
    {
      "cell_type": "code",
      "metadata": {
        "id": "Q7dfUbVFVdHi",
        "colab_type": "code",
        "outputId": "5eb9dad1-7a12-465c-cf22-db078670673e",
        "colab": {
          "base_uri": "https://localhost:8080/",
          "height": 487
        }
      },
      "source": [
        "Merged_Data2.head(n=5)"
      ],
      "execution_count": 10,
      "outputs": [
        {
          "output_type": "execute_result",
          "data": {
            "text/html": [
              "<div>\n",
              "<style scoped>\n",
              "    .dataframe tbody tr th:only-of-type {\n",
              "        vertical-align: middle;\n",
              "    }\n",
              "\n",
              "    .dataframe tbody tr th {\n",
              "        vertical-align: top;\n",
              "    }\n",
              "\n",
              "    .dataframe thead th {\n",
              "        text-align: right;\n",
              "    }\n",
              "</style>\n",
              "<table border=\"1\" class=\"dataframe\">\n",
              "  <thead>\n",
              "    <tr style=\"text-align: right;\">\n",
              "      <th></th>\n",
              "      <th>name</th>\n",
              "      <th>id</th>\n",
              "      <th>minutes</th>\n",
              "      <th>contributor_id</th>\n",
              "      <th>submitted</th>\n",
              "      <th>tags</th>\n",
              "      <th>nutrition</th>\n",
              "      <th>n_steps</th>\n",
              "      <th>steps</th>\n",
              "      <th>description</th>\n",
              "      <th>ingredients</th>\n",
              "      <th>n_ingredients</th>\n",
              "      <th>user_id</th>\n",
              "      <th>recipe_id</th>\n",
              "      <th>date</th>\n",
              "      <th>rating</th>\n",
              "      <th>review</th>\n",
              "    </tr>\n",
              "  </thead>\n",
              "  <tbody>\n",
              "    <tr>\n",
              "      <th>0</th>\n",
              "      <td>arriba   baked winter squash mexican style</td>\n",
              "      <td>137739</td>\n",
              "      <td>55</td>\n",
              "      <td>47892</td>\n",
              "      <td>2005-09-16</td>\n",
              "      <td>['60-minutes-or-less', 'time-to-make', 'course...</td>\n",
              "      <td>[51.5, 0.0, 13.0, 0.0, 2.0, 0.0, 4.0]</td>\n",
              "      <td>11</td>\n",
              "      <td>['make a choice and proceed with recipe', 'dep...</td>\n",
              "      <td>autumn is my favorite time of year to cook! th...</td>\n",
              "      <td>['winter squash', 'mexican seasoning', 'mixed ...</td>\n",
              "      <td>7</td>\n",
              "      <td>4470</td>\n",
              "      <td>137739</td>\n",
              "      <td>2006-02-18</td>\n",
              "      <td>5</td>\n",
              "      <td>I used an acorn squash and recipe#137681 Swee...</td>\n",
              "    </tr>\n",
              "    <tr>\n",
              "      <th>1</th>\n",
              "      <td>arriba   baked winter squash mexican style</td>\n",
              "      <td>137739</td>\n",
              "      <td>55</td>\n",
              "      <td>47892</td>\n",
              "      <td>2005-09-16</td>\n",
              "      <td>['60-minutes-or-less', 'time-to-make', 'course...</td>\n",
              "      <td>[51.5, 0.0, 13.0, 0.0, 2.0, 0.0, 4.0]</td>\n",
              "      <td>11</td>\n",
              "      <td>['make a choice and proceed with recipe', 'dep...</td>\n",
              "      <td>autumn is my favorite time of year to cook! th...</td>\n",
              "      <td>['winter squash', 'mexican seasoning', 'mixed ...</td>\n",
              "      <td>7</td>\n",
              "      <td>593927</td>\n",
              "      <td>137739</td>\n",
              "      <td>2010-08-21</td>\n",
              "      <td>5</td>\n",
              "      <td>This was a nice change. I used butternut squas...</td>\n",
              "    </tr>\n",
              "    <tr>\n",
              "      <th>2</th>\n",
              "      <td>arriba   baked winter squash mexican style</td>\n",
              "      <td>137739</td>\n",
              "      <td>55</td>\n",
              "      <td>47892</td>\n",
              "      <td>2005-09-16</td>\n",
              "      <td>['60-minutes-or-less', 'time-to-make', 'course...</td>\n",
              "      <td>[51.5, 0.0, 13.0, 0.0, 2.0, 0.0, 4.0]</td>\n",
              "      <td>11</td>\n",
              "      <td>['make a choice and proceed with recipe', 'dep...</td>\n",
              "      <td>autumn is my favorite time of year to cook! th...</td>\n",
              "      <td>['winter squash', 'mexican seasoning', 'mixed ...</td>\n",
              "      <td>7</td>\n",
              "      <td>178427</td>\n",
              "      <td>137739</td>\n",
              "      <td>2011-12-05</td>\n",
              "      <td>5</td>\n",
              "      <td>Excellent recipe! I used butternut squash and ...</td>\n",
              "    </tr>\n",
              "    <tr>\n",
              "      <th>3</th>\n",
              "      <td>a bit different  breakfast pizza</td>\n",
              "      <td>31490</td>\n",
              "      <td>30</td>\n",
              "      <td>26278</td>\n",
              "      <td>2002-06-17</td>\n",
              "      <td>['30-minutes-or-less', 'time-to-make', 'course...</td>\n",
              "      <td>[173.4, 18.0, 0.0, 17.0, 22.0, 35.0, 1.0]</td>\n",
              "      <td>9</td>\n",
              "      <td>['preheat oven to 425 degrees f', 'press dough...</td>\n",
              "      <td>this recipe calls for the crust to be prebaked...</td>\n",
              "      <td>['prepared pizza crust', 'sausage patty', 'egg...</td>\n",
              "      <td>6</td>\n",
              "      <td>28603</td>\n",
              "      <td>31490</td>\n",
              "      <td>2002-08-19</td>\n",
              "      <td>0</td>\n",
              "      <td>Have not tried this, but it sounds delicious. ...</td>\n",
              "    </tr>\n",
              "    <tr>\n",
              "      <th>4</th>\n",
              "      <td>a bit different  breakfast pizza</td>\n",
              "      <td>31490</td>\n",
              "      <td>30</td>\n",
              "      <td>26278</td>\n",
              "      <td>2002-06-17</td>\n",
              "      <td>['30-minutes-or-less', 'time-to-make', 'course...</td>\n",
              "      <td>[173.4, 18.0, 0.0, 17.0, 22.0, 35.0, 1.0]</td>\n",
              "      <td>9</td>\n",
              "      <td>['preheat oven to 425 degrees f', 'press dough...</td>\n",
              "      <td>this recipe calls for the crust to be prebaked...</td>\n",
              "      <td>['prepared pizza crust', 'sausage patty', 'egg...</td>\n",
              "      <td>6</td>\n",
              "      <td>346277</td>\n",
              "      <td>31490</td>\n",
              "      <td>2006-08-27</td>\n",
              "      <td>5</td>\n",
              "      <td>This recipe was wonderful.  Instead of using t...</td>\n",
              "    </tr>\n",
              "  </tbody>\n",
              "</table>\n",
              "</div>"
            ],
            "text/plain": [
              "                                         name  ...                                             review\n",
              "0  arriba   baked winter squash mexican style  ...   I used an acorn squash and recipe#137681 Swee...\n",
              "1  arriba   baked winter squash mexican style  ...  This was a nice change. I used butternut squas...\n",
              "2  arriba   baked winter squash mexican style  ...  Excellent recipe! I used butternut squash and ...\n",
              "3            a bit different  breakfast pizza  ...  Have not tried this, but it sounds delicious. ...\n",
              "4            a bit different  breakfast pizza  ...  This recipe was wonderful.  Instead of using t...\n",
              "\n",
              "[5 rows x 17 columns]"
            ]
          },
          "metadata": {
            "tags": []
          },
          "execution_count": 10
        }
      ]
    },
    {
      "cell_type": "markdown",
      "metadata": {
        "id": "tHiPhdhmWL9p",
        "colab_type": "text"
      },
      "source": [
        "**Let's find answers to some cool questions!**\n",
        "\n",
        "**What is the best recipe by user ratings and number of reviews?**"
      ]
    },
    {
      "cell_type": "code",
      "metadata": {
        "id": "jC1c6gXsWLmO",
        "colab_type": "code",
        "outputId": "f35be5fe-5904-4670-b7e1-efbb4da37e13",
        "colab": {
          "base_uri": "https://localhost:8080/",
          "height": 376
        }
      },
      "source": [
        "rating = Merged_Data2[['name','rating','recipe_id']].groupby(['recipe_id','name'])['rating'].agg(['mean','count'])\\\n",
        "                                                        .rename(columns={\"mean\": \"average_rating\", \"count\": \"No_of_Reviews\"})\n",
        "(rating.sort_values(by = ['average_rating','No_of_Reviews'], ascending= False)).head(n=10)\n"
      ],
      "execution_count": 11,
      "outputs": [
        {
          "output_type": "execute_result",
          "data": {
            "text/html": [
              "<div>\n",
              "<style scoped>\n",
              "    .dataframe tbody tr th:only-of-type {\n",
              "        vertical-align: middle;\n",
              "    }\n",
              "\n",
              "    .dataframe tbody tr th {\n",
              "        vertical-align: top;\n",
              "    }\n",
              "\n",
              "    .dataframe thead th {\n",
              "        text-align: right;\n",
              "    }\n",
              "</style>\n",
              "<table border=\"1\" class=\"dataframe\">\n",
              "  <thead>\n",
              "    <tr style=\"text-align: right;\">\n",
              "      <th></th>\n",
              "      <th></th>\n",
              "      <th>average_rating</th>\n",
              "      <th>No_of_Reviews</th>\n",
              "    </tr>\n",
              "    <tr>\n",
              "      <th>recipe_id</th>\n",
              "      <th>name</th>\n",
              "      <th></th>\n",
              "      <th></th>\n",
              "    </tr>\n",
              "  </thead>\n",
              "  <tbody>\n",
              "    <tr>\n",
              "      <th>55309</th>\n",
              "      <th>caprese salad tomatoes  italian marinated tomatoes</th>\n",
              "      <td>5.0</td>\n",
              "      <td>52</td>\n",
              "    </tr>\n",
              "    <tr>\n",
              "      <th>24768</th>\n",
              "      <th>berry cream cheese coffee cake</th>\n",
              "      <td>5.0</td>\n",
              "      <td>37</td>\n",
              "    </tr>\n",
              "    <tr>\n",
              "      <th>121941</th>\n",
              "      <th>kittencal s soft white baguette style bread</th>\n",
              "      <td>5.0</td>\n",
              "      <td>36</td>\n",
              "    </tr>\n",
              "    <tr>\n",
              "      <th>166669</th>\n",
              "      <th>kittencal s caesar tortellini salad</th>\n",
              "      <td>5.0</td>\n",
              "      <td>36</td>\n",
              "    </tr>\n",
              "    <tr>\n",
              "      <th>62754</th>\n",
              "      <th>linda s special potato salad</th>\n",
              "      <td>5.0</td>\n",
              "      <td>32</td>\n",
              "    </tr>\n",
              "    <tr>\n",
              "      <th>199171</th>\n",
              "      <th>broiled cinnamon toast</th>\n",
              "      <td>5.0</td>\n",
              "      <td>31</td>\n",
              "    </tr>\n",
              "    <tr>\n",
              "      <th>269136</th>\n",
              "      <th>earth bread</th>\n",
              "      <td>5.0</td>\n",
              "      <td>31</td>\n",
              "    </tr>\n",
              "    <tr>\n",
              "      <th>45107</th>\n",
              "      <th>strawberry cheese ring</th>\n",
              "      <td>5.0</td>\n",
              "      <td>28</td>\n",
              "    </tr>\n",
              "    <tr>\n",
              "      <th>94087</th>\n",
              "      <th>cranberry nut swirls</th>\n",
              "      <td>5.0</td>\n",
              "      <td>28</td>\n",
              "    </tr>\n",
              "    <tr>\n",
              "      <th>495202</th>\n",
              "      <th>crunchy valley chicken  rsc</th>\n",
              "      <td>5.0</td>\n",
              "      <td>28</td>\n",
              "    </tr>\n",
              "  </tbody>\n",
              "</table>\n",
              "</div>"
            ],
            "text/plain": [
              "                                                              average_rating  No_of_Reviews\n",
              "recipe_id name                                                                             \n",
              "55309     caprese salad tomatoes  italian marinated tomatoes             5.0             52\n",
              "24768     berry cream cheese coffee cake                                 5.0             37\n",
              "121941    kittencal s soft white baguette style bread                    5.0             36\n",
              "166669    kittencal s caesar tortellini salad                            5.0             36\n",
              "62754     linda s special potato salad                                   5.0             32\n",
              "199171    broiled cinnamon toast                                         5.0             31\n",
              "269136    earth bread                                                    5.0             31\n",
              "45107     strawberry cheese ring                                         5.0             28\n",
              "94087     cranberry nut swirls                                           5.0             28\n",
              "495202    crunchy valley chicken  rsc                                    5.0             28"
            ]
          },
          "metadata": {
            "tags": []
          },
          "execution_count": 11
        }
      ]
    },
    {
      "cell_type": "markdown",
      "metadata": {
        "id": "hu672a1iqsVe",
        "colab_type": "text"
      },
      "source": [
        "# Pre-processing of the data"
      ]
    },
    {
      "cell_type": "markdown",
      "metadata": {
        "id": "_SED92gTquYG",
        "colab_type": "text"
      },
      "source": [
        "**Some columns like nutritional values and ingredients are read as strings by python rather than list objects.**\n",
        "\n",
        "1.   **We will now convert ingredients to list objects so that we can use them as iterables while text processing.**\n",
        "\n",
        "2.   **We will convert nutritional values column to columns of nutritional  values so that we can use them for comparision of different recipes nutritional values.** \n",
        " "
      ]
    },
    {
      "cell_type": "markdown",
      "metadata": {
        "id": "vyc_vdRBCN7N",
        "colab_type": "text"
      },
      "source": [
        "**Coverting nutritional values column to columns of nutritional values**"
      ]
    },
    {
      "cell_type": "code",
      "metadata": {
        "id": "9F3qRK-qCbg1",
        "colab_type": "code",
        "outputId": "bab64f35-8486-4393-b93a-fcf128237005",
        "colab": {
          "base_uri": "https://localhost:8080/",
          "height": 0
        }
      },
      "source": [
        "NutriList=['cal', 'totalFat', 'sugar', 'sodium', 'protein', 'satFat', 'carbs']\n",
        "\n",
        "NutriList_Columns = pd.DataFrame(Merged_Data2['nutrition'].apply(eval).to_list(),\\\n",
        "                        index=Merged_Data2.index\\\n",
        "                        ,columns=NutriList)\n",
        "\n",
        "Merged_Data2 = Merged_Data2.join(NutriList_Columns)\n",
        "Merged_Data2.head(5)"
      ],
      "execution_count": 12,
      "outputs": [
        {
          "output_type": "execute_result",
          "data": {
            "text/html": [
              "<div>\n",
              "<style scoped>\n",
              "    .dataframe tbody tr th:only-of-type {\n",
              "        vertical-align: middle;\n",
              "    }\n",
              "\n",
              "    .dataframe tbody tr th {\n",
              "        vertical-align: top;\n",
              "    }\n",
              "\n",
              "    .dataframe thead th {\n",
              "        text-align: right;\n",
              "    }\n",
              "</style>\n",
              "<table border=\"1\" class=\"dataframe\">\n",
              "  <thead>\n",
              "    <tr style=\"text-align: right;\">\n",
              "      <th></th>\n",
              "      <th>name</th>\n",
              "      <th>id</th>\n",
              "      <th>minutes</th>\n",
              "      <th>contributor_id</th>\n",
              "      <th>submitted</th>\n",
              "      <th>tags</th>\n",
              "      <th>nutrition</th>\n",
              "      <th>n_steps</th>\n",
              "      <th>steps</th>\n",
              "      <th>description</th>\n",
              "      <th>ingredients</th>\n",
              "      <th>n_ingredients</th>\n",
              "      <th>user_id</th>\n",
              "      <th>recipe_id</th>\n",
              "      <th>date</th>\n",
              "      <th>rating</th>\n",
              "      <th>review</th>\n",
              "      <th>cal</th>\n",
              "      <th>totalFat</th>\n",
              "      <th>sugar</th>\n",
              "      <th>sodium</th>\n",
              "      <th>protein</th>\n",
              "      <th>satFat</th>\n",
              "      <th>carbs</th>\n",
              "    </tr>\n",
              "  </thead>\n",
              "  <tbody>\n",
              "    <tr>\n",
              "      <th>0</th>\n",
              "      <td>arriba   baked winter squash mexican style</td>\n",
              "      <td>137739</td>\n",
              "      <td>55</td>\n",
              "      <td>47892</td>\n",
              "      <td>2005-09-16</td>\n",
              "      <td>['60-minutes-or-less', 'time-to-make', 'course...</td>\n",
              "      <td>[51.5, 0.0, 13.0, 0.0, 2.0, 0.0, 4.0]</td>\n",
              "      <td>11</td>\n",
              "      <td>['make a choice and proceed with recipe', 'dep...</td>\n",
              "      <td>autumn is my favorite time of year to cook! th...</td>\n",
              "      <td>['winter squash', 'mexican seasoning', 'mixed ...</td>\n",
              "      <td>7</td>\n",
              "      <td>4470</td>\n",
              "      <td>137739</td>\n",
              "      <td>2006-02-18</td>\n",
              "      <td>5</td>\n",
              "      <td>I used an acorn squash and recipe#137681 Swee...</td>\n",
              "      <td>51.5</td>\n",
              "      <td>0.0</td>\n",
              "      <td>13.0</td>\n",
              "      <td>0.0</td>\n",
              "      <td>2.0</td>\n",
              "      <td>0.0</td>\n",
              "      <td>4.0</td>\n",
              "    </tr>\n",
              "    <tr>\n",
              "      <th>1</th>\n",
              "      <td>arriba   baked winter squash mexican style</td>\n",
              "      <td>137739</td>\n",
              "      <td>55</td>\n",
              "      <td>47892</td>\n",
              "      <td>2005-09-16</td>\n",
              "      <td>['60-minutes-or-less', 'time-to-make', 'course...</td>\n",
              "      <td>[51.5, 0.0, 13.0, 0.0, 2.0, 0.0, 4.0]</td>\n",
              "      <td>11</td>\n",
              "      <td>['make a choice and proceed with recipe', 'dep...</td>\n",
              "      <td>autumn is my favorite time of year to cook! th...</td>\n",
              "      <td>['winter squash', 'mexican seasoning', 'mixed ...</td>\n",
              "      <td>7</td>\n",
              "      <td>593927</td>\n",
              "      <td>137739</td>\n",
              "      <td>2010-08-21</td>\n",
              "      <td>5</td>\n",
              "      <td>This was a nice change. I used butternut squas...</td>\n",
              "      <td>51.5</td>\n",
              "      <td>0.0</td>\n",
              "      <td>13.0</td>\n",
              "      <td>0.0</td>\n",
              "      <td>2.0</td>\n",
              "      <td>0.0</td>\n",
              "      <td>4.0</td>\n",
              "    </tr>\n",
              "    <tr>\n",
              "      <th>2</th>\n",
              "      <td>arriba   baked winter squash mexican style</td>\n",
              "      <td>137739</td>\n",
              "      <td>55</td>\n",
              "      <td>47892</td>\n",
              "      <td>2005-09-16</td>\n",
              "      <td>['60-minutes-or-less', 'time-to-make', 'course...</td>\n",
              "      <td>[51.5, 0.0, 13.0, 0.0, 2.0, 0.0, 4.0]</td>\n",
              "      <td>11</td>\n",
              "      <td>['make a choice and proceed with recipe', 'dep...</td>\n",
              "      <td>autumn is my favorite time of year to cook! th...</td>\n",
              "      <td>['winter squash', 'mexican seasoning', 'mixed ...</td>\n",
              "      <td>7</td>\n",
              "      <td>178427</td>\n",
              "      <td>137739</td>\n",
              "      <td>2011-12-05</td>\n",
              "      <td>5</td>\n",
              "      <td>Excellent recipe! I used butternut squash and ...</td>\n",
              "      <td>51.5</td>\n",
              "      <td>0.0</td>\n",
              "      <td>13.0</td>\n",
              "      <td>0.0</td>\n",
              "      <td>2.0</td>\n",
              "      <td>0.0</td>\n",
              "      <td>4.0</td>\n",
              "    </tr>\n",
              "    <tr>\n",
              "      <th>3</th>\n",
              "      <td>a bit different  breakfast pizza</td>\n",
              "      <td>31490</td>\n",
              "      <td>30</td>\n",
              "      <td>26278</td>\n",
              "      <td>2002-06-17</td>\n",
              "      <td>['30-minutes-or-less', 'time-to-make', 'course...</td>\n",
              "      <td>[173.4, 18.0, 0.0, 17.0, 22.0, 35.0, 1.0]</td>\n",
              "      <td>9</td>\n",
              "      <td>['preheat oven to 425 degrees f', 'press dough...</td>\n",
              "      <td>this recipe calls for the crust to be prebaked...</td>\n",
              "      <td>['prepared pizza crust', 'sausage patty', 'egg...</td>\n",
              "      <td>6</td>\n",
              "      <td>28603</td>\n",
              "      <td>31490</td>\n",
              "      <td>2002-08-19</td>\n",
              "      <td>0</td>\n",
              "      <td>Have not tried this, but it sounds delicious. ...</td>\n",
              "      <td>173.4</td>\n",
              "      <td>18.0</td>\n",
              "      <td>0.0</td>\n",
              "      <td>17.0</td>\n",
              "      <td>22.0</td>\n",
              "      <td>35.0</td>\n",
              "      <td>1.0</td>\n",
              "    </tr>\n",
              "    <tr>\n",
              "      <th>4</th>\n",
              "      <td>a bit different  breakfast pizza</td>\n",
              "      <td>31490</td>\n",
              "      <td>30</td>\n",
              "      <td>26278</td>\n",
              "      <td>2002-06-17</td>\n",
              "      <td>['30-minutes-or-less', 'time-to-make', 'course...</td>\n",
              "      <td>[173.4, 18.0, 0.0, 17.0, 22.0, 35.0, 1.0]</td>\n",
              "      <td>9</td>\n",
              "      <td>['preheat oven to 425 degrees f', 'press dough...</td>\n",
              "      <td>this recipe calls for the crust to be prebaked...</td>\n",
              "      <td>['prepared pizza crust', 'sausage patty', 'egg...</td>\n",
              "      <td>6</td>\n",
              "      <td>346277</td>\n",
              "      <td>31490</td>\n",
              "      <td>2006-08-27</td>\n",
              "      <td>5</td>\n",
              "      <td>This recipe was wonderful.  Instead of using t...</td>\n",
              "      <td>173.4</td>\n",
              "      <td>18.0</td>\n",
              "      <td>0.0</td>\n",
              "      <td>17.0</td>\n",
              "      <td>22.0</td>\n",
              "      <td>35.0</td>\n",
              "      <td>1.0</td>\n",
              "    </tr>\n",
              "  </tbody>\n",
              "</table>\n",
              "</div>"
            ],
            "text/plain": [
              "                                         name      id  ...  satFat  carbs\n",
              "0  arriba   baked winter squash mexican style  137739  ...     0.0    4.0\n",
              "1  arriba   baked winter squash mexican style  137739  ...     0.0    4.0\n",
              "2  arriba   baked winter squash mexican style  137739  ...     0.0    4.0\n",
              "3            a bit different  breakfast pizza   31490  ...    35.0    1.0\n",
              "4            a bit different  breakfast pizza   31490  ...    35.0    1.0\n",
              "\n",
              "[5 rows x 24 columns]"
            ]
          },
          "metadata": {
            "tags": []
          },
          "execution_count": 12
        }
      ]
    },
    {
      "cell_type": "code",
      "metadata": {
        "id": "VO48MdzPHYgx",
        "colab_type": "code",
        "outputId": "5de9141a-10a5-40c8-acb0-c7837ddf2d1d",
        "colab": {
          "base_uri": "https://localhost:8080/",
          "height": 0
        }
      },
      "source": [
        "Merged_Data2['ingredients']"
      ],
      "execution_count": 13,
      "outputs": [
        {
          "output_type": "execute_result",
          "data": {
            "text/plain": [
              "0          ['winter squash', 'mexican seasoning', 'mixed ...\n",
              "1          ['winter squash', 'mexican seasoning', 'mixed ...\n",
              "2          ['winter squash', 'mexican seasoning', 'mixed ...\n",
              "3          ['prepared pizza crust', 'sausage patty', 'egg...\n",
              "4          ['prepared pizza crust', 'sausage patty', 'egg...\n",
              "                                 ...                        \n",
              "1132362    ['hard-cooked eggs', 'mayonnaise', 'dijon must...\n",
              "1132363    ['butter', 'eagle brand condensed milk', 'ligh...\n",
              "1132364    ['granulated sugar', 'shortening', 'eggs', 'fl...\n",
              "1132365    ['granulated sugar', 'shortening', 'eggs', 'fl...\n",
              "1132366    ['granulated sugar', 'shortening', 'eggs', 'fl...\n",
              "Name: ingredients, Length: 1132367, dtype: object"
            ]
          },
          "metadata": {
            "tags": []
          },
          "execution_count": 13
        }
      ]
    },
    {
      "cell_type": "code",
      "metadata": {
        "id": "btoqSd-RHrKN",
        "colab_type": "code",
        "outputId": "350cec07-8a4f-4570-9d69-072a2bedb022",
        "colab": {
          "base_uri": "https://localhost:8080/",
          "height": 0
        }
      },
      "source": [
        "type(Merged_Data2['ingredients'][0])"
      ],
      "execution_count": 14,
      "outputs": [
        {
          "output_type": "execute_result",
          "data": {
            "text/plain": [
              "str"
            ]
          },
          "metadata": {
            "tags": []
          },
          "execution_count": 14
        }
      ]
    },
    {
      "cell_type": "markdown",
      "metadata": {
        "id": "V4ovNZBBwTUt",
        "colab_type": "text"
      },
      "source": [
        "**Converting ingredients string to list of ingredients**"
      ]
    },
    {
      "cell_type": "code",
      "metadata": {
        "id": "8pWHIb5xxz7i",
        "colab_type": "code",
        "outputId": "66faef3f-886a-4b6e-b053-db66bdbb2cad",
        "colab": {
          "base_uri": "https://localhost:8080/",
          "height": 0
        }
      },
      "source": [
        "Merged_Data2['ingredients'] = Merged_Data2['ingredients'].apply(eval)\n",
        "Merged_Data2['ingredients'].head()"
      ],
      "execution_count": 15,
      "outputs": [
        {
          "output_type": "execute_result",
          "data": {
            "text/plain": [
              "0    [winter squash, mexican seasoning, mixed spice...\n",
              "1    [winter squash, mexican seasoning, mixed spice...\n",
              "2    [winter squash, mexican seasoning, mixed spice...\n",
              "3    [prepared pizza crust, sausage patty, eggs, mi...\n",
              "4    [prepared pizza crust, sausage patty, eggs, mi...\n",
              "Name: ingredients, dtype: object"
            ]
          },
          "metadata": {
            "tags": []
          },
          "execution_count": 15
        }
      ]
    },
    {
      "cell_type": "code",
      "metadata": {
        "id": "a57vxepLIMss",
        "colab_type": "code",
        "outputId": "c6419463-c5c2-4c11-8462-eb6f970db6dd",
        "colab": {
          "base_uri": "https://localhost:8080/",
          "height": 0
        }
      },
      "source": [
        "type(Merged_Data2['ingredients'][0])"
      ],
      "execution_count": 16,
      "outputs": [
        {
          "output_type": "execute_result",
          "data": {
            "text/plain": [
              "list"
            ]
          },
          "metadata": {
            "tags": []
          },
          "execution_count": 16
        }
      ]
    },
    {
      "cell_type": "markdown",
      "metadata": {
        "id": "cTFBbuduzhzk",
        "colab_type": "text"
      },
      "source": [
        "**Converting ingredients list back to usable text strings**"
      ]
    },
    {
      "cell_type": "code",
      "metadata": {
        "id": "_MDBrMAKySuc",
        "colab_type": "code",
        "outputId": "317af7a4-587e-4518-8e7f-f20ae56a19de",
        "colab": {
          "base_uri": "https://localhost:8080/",
          "height": 0
        }
      },
      "source": [
        "Merged_Data2['ingredients'] = [','.join(z).strip() for z in Merged_Data2['ingredients']]\n",
        "Merged_Data2['ingredients'].head()"
      ],
      "execution_count": 17,
      "outputs": [
        {
          "output_type": "execute_result",
          "data": {
            "text/plain": [
              "0    winter squash,mexican seasoning,mixed spice,ho...\n",
              "1    winter squash,mexican seasoning,mixed spice,ho...\n",
              "2    winter squash,mexican seasoning,mixed spice,ho...\n",
              "3    prepared pizza crust,sausage patty,eggs,milk,s...\n",
              "4    prepared pizza crust,sausage patty,eggs,milk,s...\n",
              "Name: ingredients, dtype: object"
            ]
          },
          "metadata": {
            "tags": []
          },
          "execution_count": 17
        }
      ]
    },
    {
      "cell_type": "markdown",
      "metadata": {
        "id": "v4JoNNjvnKbC",
        "colab_type": "text"
      },
      "source": [
        "# Exploratory data analysis"
      ]
    },
    {
      "cell_type": "code",
      "metadata": {
        "id": "JW9YCUM1-wSJ",
        "colab_type": "code",
        "outputId": "addf5bac-8a06-4985-c234-c62bbb89c17a",
        "colab": {
          "base_uri": "https://localhost:8080/",
          "height": 0
        }
      },
      "source": [
        "#Get all numeric columns\n",
        "numeric_columns = ['minutes', 'n_steps', 'n_ingredients', 'cal', 'totalFat', 'sugar', 'sodium', 'protein', 'satFat', 'carbs']\n",
        "\n",
        "plt.style.use('ggplot')\n",
        "fig, axis = plt.subplots(2,5,figsize=(15,10))\n",
        "axis = axis.ravel()\n",
        "for i,ax in enumerate(axis):\n",
        "    sns.boxplot(data=Merged_Data2[numeric_columns[i]],ax=ax)\n",
        "    ax.set(title=numeric_columns[i])\n",
        "plt.tight_layout()\n",
        "plt.show()"
      ],
      "execution_count": 18,
      "outputs": [
        {
          "output_type": "display_data",
          "data": {
            "image/png": "[encoded data removed]",
            "text/plain": [
              "<Figure size 1080x720 with 10 Axes>"
            ]
          },
          "metadata": {
            "tags": []
          }
        }
      ]
    },
    {
      "cell_type": "markdown",
      "metadata": {
        "id": "Cj-R2BGtGR5Q",
        "colab_type": "text"
      },
      "source": [
        "**There are many outliers, so we should remove outliers**\n",
        "\n",
        "**To remove the outliers i will set my lower and upper bound as : lower bound = Q1 - 1.5 * IQR upper bound = Q3 + 1.5 * IQR.**\n",
        "\n",
        "\n",
        "**The values out of these range are considered as outliers and we have to remove them.**\n"
      ]
    },
    {
      "cell_type": "code",
      "metadata": {
        "id": "rPNfHjNNGwHN",
        "colab_type": "code",
        "colab": {}
      },
      "source": [
        "# Removing values according to IQR\n",
        "Columns_Remove_Outliers=['n_steps','minutes','n_ingredients','cal', 'totalFat', 'sugar',   'sodium', 'protein', 'satFat', 'carbs']\n",
        "for col in Columns_Remove_Outliers:\n",
        "    IQR = Merged_Data2[col].quantile(0.75) - Merged_Data2[col].quantile(0.25)\n",
        "    colmax = Merged_Data2[col].quantile(0.75) + 1.5 * IQR\n",
        "    colmin = Merged_Data2[col].quantile(0.25) - 1.5 * IQR\n",
        "    Merged_Data2 = Merged_Data2[ (Merged_Data2[col] < colmax) & (Merged_Data2[col] > colmin) ]\n"
      ],
      "execution_count": 0,
      "outputs": []
    },
    {
      "cell_type": "code",
      "metadata": {
        "id": "IjjR0u5_H4pl",
        "colab_type": "code",
        "outputId": "c5a04004-fba4-4544-80af-b40797d144b1",
        "colab": {
          "base_uri": "https://localhost:8080/",
          "height": 0
        }
      },
      "source": [
        "#Now we will look at distributions again\n",
        "plt.style.use('ggplot')\n",
        "fig, axis = plt.subplots(2,5,figsize=(14,10))\n",
        "axis = axis.ravel()\n",
        "for i,ax in enumerate(axis):\n",
        "    sns.boxplot(data=Merged_Data2[numeric_columns[i]],ax=ax)\n",
        "    ax.set(title=numeric_columns[i])\n",
        "plt.tight_layout()\n",
        "plt.show()"
      ],
      "execution_count": 20,
      "outputs": [
        {
          "output_type": "display_data",
          "data": {
            "image/png": "[encoded data removed]",
            "text/plain": [
              "<Figure size 1008x720 with 10 Axes>"
            ]
          },
          "metadata": {
            "tags": []
          }
        }
      ]
    },
    {
      "cell_type": "markdown",
      "metadata": {
        "id": "GTgY5DnbqA_D",
        "colab_type": "text"
      },
      "source": [
        "**This is much better than before removing the outliers**"
      ]
    },
    {
      "cell_type": "markdown",
      "metadata": {
        "id": "f8iDQmtenueT",
        "colab_type": "text"
      },
      "source": [
        "**Removing Missing Values**"
      ]
    },
    {
      "cell_type": "code",
      "metadata": {
        "id": "M26KFRxtnyM8",
        "colab_type": "code",
        "colab": {}
      },
      "source": [
        "Merged_Data2.dropna(inplace= True)"
      ],
      "execution_count": 0,
      "outputs": []
    },
    {
      "cell_type": "markdown",
      "metadata": {
        "id": "mRZfFlVyDBSC",
        "colab_type": "text"
      },
      "source": [
        "**We can get many more insights from the data if we use the text in the reviews, Ingredients**\n",
        "\n"
      ]
    },
    {
      "cell_type": "markdown",
      "metadata": {
        "id": "uMRHB2SBIDnd",
        "colab_type": "text"
      },
      "source": [
        "# Sentiment Classification"
      ]
    },
    {
      "cell_type": "markdown",
      "metadata": {
        "id": "UCDvvIPUOiZu",
        "colab_type": "text"
      },
      "source": [
        "**Objective of the text analysis task we are trying to do:\n",
        "Given a review, determine whether the review is positive (Rating of 4 or 5) or negative (rating of 1 or 2).**\n",
        "\n",
        "\n",
        "**But how to determine if a review is positive or negative?**\n",
        "\n",
        "**We could use the Rating column. A rating of 4 or 5 can be cosnidered a positive review. A review of 1 or 2 can be considered as a negative review. A review of 3 is nuetral and ignored.** \n",
        "\n",
        "**This is an approximate and proxy way of determining the polarity (positivity/negativity) of a review.**"
      ]
    },
    {
      "cell_type": "code",
      "metadata": {
        "id": "tCKtZHfZOzNa",
        "colab_type": "code",
        "outputId": "e62daa77-2d75-4fb7-b477-1ed436fff6d3",
        "colab": {
          "base_uri": "https://localhost:8080/",
          "height": 0
        }
      },
      "source": [
        "# Give reviews with Score>3 a positive rating, and reviews with a score<3 a negative rating.\n",
        "def partition(x):\n",
        "    if x < 3:\n",
        "        return 0\n",
        "    return 1\n",
        "\n",
        "#changing reviews with score less than 3 to be positive and vice-versa\n",
        "Merged_Data2['rating_positive_negative'] = Merged_Data2['rating'].apply(partition)\n",
        "Merged_Data2['rating_positive_negative'].value_counts()\n",
        "\n"
      ],
      "execution_count": 22,
      "outputs": [
        {
          "output_type": "execute_result",
          "data": {
            "text/plain": [
              "1    620549\n",
              "0     47618\n",
              "Name: rating_positive_negative, dtype: int64"
            ]
          },
          "metadata": {
            "tags": []
          },
          "execution_count": 22
        }
      ]
    },
    {
      "cell_type": "markdown",
      "metadata": {
        "id": "xVuxbunkAQ5q",
        "colab_type": "text"
      },
      "source": [
        "**The issue of class imbalance can result in a serious bias towards the majority class, reducing the classification performance and increasing the number of false negatives**\n",
        "\n",
        "**But, we should remember that this sampling doesn't introduce new information in the dataset, it (hopefully) merely shifts it around so as to increase the \"numerical stability\" of our resulting models.**\n",
        "\n",
        "**We do under-sampling the majority class as this will result in an improved classification performance.**"
      ]
    },
    {
      "cell_type": "markdown",
      "metadata": {
        "id": "agks6Mj_nHah",
        "colab_type": "text"
      },
      "source": [
        "**Before doing all these splitting we have to preprocess the data so that every split of data have undergone through same data manipulations**"
      ]
    },
    {
      "cell_type": "markdown",
      "metadata": {
        "id": "8d7yhlElUfFy",
        "colab_type": "text"
      },
      "source": [
        "# Text Preprocessing\n",
        "\n",
        "In the Preprocessing phase we do the following in the order below:-\n",
        "\n",
        "1. Begin by removing the html tags\n",
        "2. Remove any punctuations or limited set of special characters like , or . or # etc.\n",
        "3. Check if the word is made up of english letters and is not alpha-numeric\n",
        "4. Check to see if the length of the word is greater than 2 (as it was researched that there is no adjective in 2-letters)\n",
        "5. Convert the word to lowercase\n",
        "6. Remove Stopwords\n",
        "7. Finally Snowball Stemming the word (it was obsereved to be better than Porter Stemming)\n",
        "After which we collect the words used to describe positive and negative reviews"
      ]
    },
    {
      "cell_type": "code",
      "metadata": {
        "id": "xO-NkkPlppPk",
        "colab_type": "code",
        "colab": {}
      },
      "source": [
        "#we are removing the words from the stop words list: 'no', 'nor', 'not'\n",
        "\n",
        "STOP_WORDS= set([ 'the', 'i', 'me', 'my', 'myself', 'we', 'our', 'ours', 'ourselves', 'you', \"you're\", \"you've\",\\\n",
        "            \"you'll\", \"you'd\", 'your', 'yours', 'yourself', 'yourselves', 'he', 'him', 'his', 'himself', \\\n",
        "            'she', \"she's\", 'her', 'hers', 'herself', 'it', \"it's\", 'its', 'itself', 'they', 'them', 'their',\\\n",
        "            'theirs', 'themselves', 'what', 'which', 'who', 'whom', 'this', 'that', \"that'll\", 'these', 'those', \\\n",
        "            'am', 'is', 'are', 'was', 'were', 'be', 'been', 'being', 'have', 'has', 'had', 'having', 'do', 'does', \\\n",
        "            'did', 'doing', 'a', 'an', 'the', 'and', 'but', 'if', 'or', 'because', 'as', 'until', 'while', 'of', \\\n",
        "            'at', 'by', 'for', 'with', 'about', 'against', 'between', 'into', 'through', 'during', 'before', 'after',\\\n",
        "            'above', 'below', 'to', 'from', 'up', 'down', 'in', 'out', 'on', 'off', 'over', 'under', 'again', 'further',\\\n",
        "            'then', 'once', 'here', 'there', 'when', 'where', 'why', 'how', 'all', 'any', 'both', 'each', 'few', 'more',\\\n",
        "            'most', 'other', 'some', 'such', 'only', 'own', 'same', 'so', 'than', 'too', 'very', \\\n",
        "            's', 't', 'can', 'will', 'just', 'don', \"don't\", 'should', \"should've\", 'now', 'd', 'll', 'm', 'o', 're', \\\n",
        "            've', 'y', 'ain', 'aren', \"aren't\", 'couldn', \"couldn't\", 'didn', \"didn't\", 'doesn', \"doesn't\", 'hadn',\\\n",
        "            \"hadn't\", 'hasn', \"hasn't\", 'haven', \"haven't\", 'isn', \"isn't\", 'ma', 'mightn', \"mightn't\", 'mustn',\\\n",
        "            \"mustn't\", 'needn', \"needn't\", 'shan', \"shan't\", 'shouldn', \"shouldn't\", 'wasn', \"wasn't\", 'weren', \"weren't\", \\\n",
        "            'won', \"won't\", 'wouldn', \"wouldn't\"])\n",
        "\n",
        "\n",
        "porter = PorterStemmer()\n",
        "wnl = WordNetLemmatizer()\n",
        "def preprocess(x):\n",
        "    x = str(x).lower()\n",
        "    x = x.replace(\",000,000\", \"m\").replace(\",000\", \"k\").replace(\"′\", \"'\").replace(\"’\", \"'\")\\\n",
        "                           .replace(\"won't\", \"will not\").replace(\"cannot\", \"can not\").replace(\"can't\", \"can not\")\\\n",
        "                           .replace(\"n't\", \" not\").replace(\"what's\", \"what is\").replace(\"it's\", \"it is\")\\\n",
        "                           .replace(\"'ve\", \" have\").replace(\"i'm\", \"i am\").replace(\"'re\", \" are\")\\\n",
        "                           .replace(\"he's\", \"he is\").replace(\"she's\", \"she is\").replace(\"'s\", \" own\")\\\n",
        "                           .replace(\"%\", \" percent \").replace(\"₹\", \" rupee \").replace(\"$\", \" dollar \")\\\n",
        "                           .replace(\"€\", \" euro \").replace(\"'ll\", \" will\")\n",
        "    x = re.sub(r\"([0-9]+)000000\", r\"\\1m\", x)\n",
        "    x = re.sub(r\"([0-9]+)000\", r\"\\1k\", x)\n",
        "    x = re.sub(\"\\S*\\d\\S*\", \"\", str(x)).strip()\n",
        "    x = re.sub('[^A-Za-z0-9]+', ' ', str(x))\n",
        "    #Stop word removal and Applying PorterStemmer\n",
        "    #x = ' '.join(porter.stem(w) for w in x.split() if w not in STOP_WORDS)\n",
        "\n",
        "    #Stop word removal and Applying WordNetLemmatizer\n",
        "    x = ' '.join(wnl.lemmatize(w) for w in x.split() if w not in STOP_WORDS)\n",
        "  \n",
        "    return x\n"
      ],
      "execution_count": 0,
      "outputs": []
    },
    {
      "cell_type": "markdown",
      "metadata": {
        "id": "HLYjK0TghBPw",
        "colab_type": "text"
      },
      "source": [
        "**Using the above function for review text pre processing**"
      ]
    },
    {
      "cell_type": "code",
      "metadata": {
        "id": "nqsjeh9bRGy5",
        "colab_type": "code",
        "colab": {}
      },
      "source": [
        "Merged_Data2['Processed_Review'] = Merged_Data2['review'].apply(preprocess)"
      ],
      "execution_count": 0,
      "outputs": []
    },
    {
      "cell_type": "markdown",
      "metadata": {
        "id": "W93hG8Fwg8fu",
        "colab_type": "text"
      },
      "source": [
        "**Review Before Text Processing**"
      ]
    },
    {
      "cell_type": "code",
      "metadata": {
        "id": "lCJn5facopIS",
        "colab_type": "code",
        "outputId": "6ad5602c-5912-4212-a675-a79372f2779b",
        "colab": {
          "base_uri": "https://localhost:8080/",
          "height": 0
        }
      },
      "source": [
        "Merged_Data2['review'].values[2]"
      ],
      "execution_count": 25,
      "outputs": [
        {
          "output_type": "execute_result",
          "data": {
            "text/plain": [
              "'Excellent recipe! I used butternut squash and the sweet option. The mexican spice mix put this over the top. Thanks for sharing.'"
            ]
          },
          "metadata": {
            "tags": []
          },
          "execution_count": 25
        }
      ]
    },
    {
      "cell_type": "markdown",
      "metadata": {
        "id": "RXnYGg6dg2Wr",
        "colab_type": "text"
      },
      "source": [
        "**Review after Text Processing**"
      ]
    },
    {
      "cell_type": "code",
      "metadata": {
        "id": "qqBM_xI4RlIY",
        "colab_type": "code",
        "outputId": "a9092b7a-c437-4eb1-a374-3a990a94dbb3",
        "colab": {
          "base_uri": "https://localhost:8080/",
          "height": 0
        }
      },
      "source": [
        "Merged_Data2['Processed_Review'].values[2]"
      ],
      "execution_count": 26,
      "outputs": [
        {
          "output_type": "execute_result",
          "data": {
            "text/plain": [
              "'excellent recipe used butternut squash sweet option mexican spice mix put top thanks sharing'"
            ]
          },
          "metadata": {
            "tags": []
          },
          "execution_count": 26
        }
      ]
    },
    {
      "cell_type": "code",
      "metadata": {
        "id": "FpFaSij9O1Ry",
        "colab_type": "code",
        "outputId": "83a74ad5-89d3-44a1-c7fe-226dfb25fd68",
        "colab": {
          "base_uri": "https://localhost:8080/",
          "height": 0
        }
      },
      "source": [
        "Merged_Data2.head(n=5)"
      ],
      "execution_count": 27,
      "outputs": [
        {
          "output_type": "execute_result",
          "data": {
            "text/html": [
              "<div>\n",
              "<style scoped>\n",
              "    .dataframe tbody tr th:only-of-type {\n",
              "        vertical-align: middle;\n",
              "    }\n",
              "\n",
              "    .dataframe tbody tr th {\n",
              "        vertical-align: top;\n",
              "    }\n",
              "\n",
              "    .dataframe thead th {\n",
              "        text-align: right;\n",
              "    }\n",
              "</style>\n",
              "<table border=\"1\" class=\"dataframe\">\n",
              "  <thead>\n",
              "    <tr style=\"text-align: right;\">\n",
              "      <th></th>\n",
              "      <th>name</th>\n",
              "      <th>id</th>\n",
              "      <th>minutes</th>\n",
              "      <th>contributor_id</th>\n",
              "      <th>submitted</th>\n",
              "      <th>tags</th>\n",
              "      <th>nutrition</th>\n",
              "      <th>n_steps</th>\n",
              "      <th>steps</th>\n",
              "      <th>description</th>\n",
              "      <th>ingredients</th>\n",
              "      <th>n_ingredients</th>\n",
              "      <th>user_id</th>\n",
              "      <th>recipe_id</th>\n",
              "      <th>date</th>\n",
              "      <th>rating</th>\n",
              "      <th>review</th>\n",
              "      <th>cal</th>\n",
              "      <th>totalFat</th>\n",
              "      <th>sugar</th>\n",
              "      <th>sodium</th>\n",
              "      <th>protein</th>\n",
              "      <th>satFat</th>\n",
              "      <th>carbs</th>\n",
              "      <th>rating_positive_negative</th>\n",
              "      <th>Processed_Review</th>\n",
              "    </tr>\n",
              "  </thead>\n",
              "  <tbody>\n",
              "    <tr>\n",
              "      <th>0</th>\n",
              "      <td>arriba   baked winter squash mexican style</td>\n",
              "      <td>137739</td>\n",
              "      <td>55</td>\n",
              "      <td>47892</td>\n",
              "      <td>2005-09-16</td>\n",
              "      <td>['60-minutes-or-less', 'time-to-make', 'course...</td>\n",
              "      <td>[51.5, 0.0, 13.0, 0.0, 2.0, 0.0, 4.0]</td>\n",
              "      <td>11</td>\n",
              "      <td>['make a choice and proceed with recipe', 'dep...</td>\n",
              "      <td>autumn is my favorite time of year to cook! th...</td>\n",
              "      <td>winter squash,mexican seasoning,mixed spice,ho...</td>\n",
              "      <td>7</td>\n",
              "      <td>4470</td>\n",
              "      <td>137739</td>\n",
              "      <td>2006-02-18</td>\n",
              "      <td>5</td>\n",
              "      <td>I used an acorn squash and recipe#137681 Swee...</td>\n",
              "      <td>51.5</td>\n",
              "      <td>0.0</td>\n",
              "      <td>13.0</td>\n",
              "      <td>0.0</td>\n",
              "      <td>2.0</td>\n",
              "      <td>0.0</td>\n",
              "      <td>4.0</td>\n",
              "      <td>1</td>\n",
              "      <td>used acorn squash sweet mexican spice blend us...</td>\n",
              "    </tr>\n",
              "    <tr>\n",
              "      <th>1</th>\n",
              "      <td>arriba   baked winter squash mexican style</td>\n",
              "      <td>137739</td>\n",
              "      <td>55</td>\n",
              "      <td>47892</td>\n",
              "      <td>2005-09-16</td>\n",
              "      <td>['60-minutes-or-less', 'time-to-make', 'course...</td>\n",
              "      <td>[51.5, 0.0, 13.0, 0.0, 2.0, 0.0, 4.0]</td>\n",
              "      <td>11</td>\n",
              "      <td>['make a choice and proceed with recipe', 'dep...</td>\n",
              "      <td>autumn is my favorite time of year to cook! th...</td>\n",
              "      <td>winter squash,mexican seasoning,mixed spice,ho...</td>\n",
              "      <td>7</td>\n",
              "      <td>593927</td>\n",
              "      <td>137739</td>\n",
              "      <td>2010-08-21</td>\n",
              "      <td>5</td>\n",
              "      <td>This was a nice change. I used butternut squas...</td>\n",
              "      <td>51.5</td>\n",
              "      <td>0.0</td>\n",
              "      <td>13.0</td>\n",
              "      <td>0.0</td>\n",
              "      <td>2.0</td>\n",
              "      <td>0.0</td>\n",
              "      <td>4.0</td>\n",
              "      <td>1</td>\n",
              "      <td>nice change used butternut squash sweet option...</td>\n",
              "    </tr>\n",
              "    <tr>\n",
              "      <th>2</th>\n",
              "      <td>arriba   baked winter squash mexican style</td>\n",
              "      <td>137739</td>\n",
              "      <td>55</td>\n",
              "      <td>47892</td>\n",
              "      <td>2005-09-16</td>\n",
              "      <td>['60-minutes-or-less', 'time-to-make', 'course...</td>\n",
              "      <td>[51.5, 0.0, 13.0, 0.0, 2.0, 0.0, 4.0]</td>\n",
              "      <td>11</td>\n",
              "      <td>['make a choice and proceed with recipe', 'dep...</td>\n",
              "      <td>autumn is my favorite time of year to cook! th...</td>\n",
              "      <td>winter squash,mexican seasoning,mixed spice,ho...</td>\n",
              "      <td>7</td>\n",
              "      <td>178427</td>\n",
              "      <td>137739</td>\n",
              "      <td>2011-12-05</td>\n",
              "      <td>5</td>\n",
              "      <td>Excellent recipe! I used butternut squash and ...</td>\n",
              "      <td>51.5</td>\n",
              "      <td>0.0</td>\n",
              "      <td>13.0</td>\n",
              "      <td>0.0</td>\n",
              "      <td>2.0</td>\n",
              "      <td>0.0</td>\n",
              "      <td>4.0</td>\n",
              "      <td>1</td>\n",
              "      <td>excellent recipe used butternut squash sweet o...</td>\n",
              "    </tr>\n",
              "    <tr>\n",
              "      <th>3</th>\n",
              "      <td>a bit different  breakfast pizza</td>\n",
              "      <td>31490</td>\n",
              "      <td>30</td>\n",
              "      <td>26278</td>\n",
              "      <td>2002-06-17</td>\n",
              "      <td>['30-minutes-or-less', 'time-to-make', 'course...</td>\n",
              "      <td>[173.4, 18.0, 0.0, 17.0, 22.0, 35.0, 1.0]</td>\n",
              "      <td>9</td>\n",
              "      <td>['preheat oven to 425 degrees f', 'press dough...</td>\n",
              "      <td>this recipe calls for the crust to be prebaked...</td>\n",
              "      <td>prepared pizza crust,sausage patty,eggs,milk,s...</td>\n",
              "      <td>6</td>\n",
              "      <td>28603</td>\n",
              "      <td>31490</td>\n",
              "      <td>2002-08-19</td>\n",
              "      <td>0</td>\n",
              "      <td>Have not tried this, but it sounds delicious. ...</td>\n",
              "      <td>173.4</td>\n",
              "      <td>18.0</td>\n",
              "      <td>0.0</td>\n",
              "      <td>17.0</td>\n",
              "      <td>22.0</td>\n",
              "      <td>35.0</td>\n",
              "      <td>1.0</td>\n",
              "      <td>0</td>\n",
              "      <td>not tried sound delicious reminds layover atla...</td>\n",
              "    </tr>\n",
              "    <tr>\n",
              "      <th>4</th>\n",
              "      <td>a bit different  breakfast pizza</td>\n",
              "      <td>31490</td>\n",
              "      <td>30</td>\n",
              "      <td>26278</td>\n",
              "      <td>2002-06-17</td>\n",
              "      <td>['30-minutes-or-less', 'time-to-make', 'course...</td>\n",
              "      <td>[173.4, 18.0, 0.0, 17.0, 22.0, 35.0, 1.0]</td>\n",
              "      <td>9</td>\n",
              "      <td>['preheat oven to 425 degrees f', 'press dough...</td>\n",
              "      <td>this recipe calls for the crust to be prebaked...</td>\n",
              "      <td>prepared pizza crust,sausage patty,eggs,milk,s...</td>\n",
              "      <td>6</td>\n",
              "      <td>346277</td>\n",
              "      <td>31490</td>\n",
              "      <td>2006-08-27</td>\n",
              "      <td>5</td>\n",
              "      <td>This recipe was wonderful.  Instead of using t...</td>\n",
              "      <td>173.4</td>\n",
              "      <td>18.0</td>\n",
              "      <td>0.0</td>\n",
              "      <td>17.0</td>\n",
              "      <td>22.0</td>\n",
              "      <td>35.0</td>\n",
              "      <td>1.0</td>\n",
              "      <td>1</td>\n",
              "      <td>recipe wonderful instead using precooked sausa...</td>\n",
              "    </tr>\n",
              "  </tbody>\n",
              "</table>\n",
              "</div>"
            ],
            "text/plain": [
              "                                         name  ...                                   Processed_Review\n",
              "0  arriba   baked winter squash mexican style  ...  used acorn squash sweet mexican spice blend us...\n",
              "1  arriba   baked winter squash mexican style  ...  nice change used butternut squash sweet option...\n",
              "2  arriba   baked winter squash mexican style  ...  excellent recipe used butternut squash sweet o...\n",
              "3            a bit different  breakfast pizza  ...  not tried sound delicious reminds layover atla...\n",
              "4            a bit different  breakfast pizza  ...  recipe wonderful instead using precooked sausa...\n",
              "\n",
              "[5 rows x 26 columns]"
            ]
          },
          "metadata": {
            "tags": []
          },
          "execution_count": 27
        }
      ]
    },
    {
      "cell_type": "markdown",
      "metadata": {
        "id": "miNTKBCJOQZN",
        "colab_type": "text"
      },
      "source": [
        "**Now the text is pre processed and ready for modeling!**\n",
        "\n",
        "\n",
        "**We will first divide the dataset into Test Train sets and perform undersampling only on the training set.**\n",
        "\n",
        " **We will keep test set aside for our model performance measurement.**"
      ]
    },
    {
      "cell_type": "code",
      "metadata": {
        "id": "3-NN6_PyGYv1",
        "colab_type": "code",
        "outputId": "c03fe825-e399-4949-bc3e-d9612bf87a78",
        "colab": {
          "base_uri": "https://localhost:8080/",
          "height": 0
        }
      },
      "source": [
        "Y = Merged_Data2['rating_positive_negative'].values\n",
        "X = Merged_Data2['Processed_Review'].values\n",
        "X_train, X_test, y_train, y_test = train_test_split(X.astype('U'), Y, test_size=0.33) # this is random splitting\n",
        "print(X_train.shape, y_train.shape)\n",
        "print(X_test.shape, y_test.shape)"
      ],
      "execution_count": 28,
      "outputs": [
        {
          "output_type": "stream",
          "text": [
            "(447671,) (447671,)\n",
            "(220496,) (220496,)\n"
          ],
          "name": "stdout"
        }
      ]
    },
    {
      "cell_type": "markdown",
      "metadata": {
        "colab_type": "text",
        "id": "Hy_4lOCzOdni"
      },
      "source": [
        "**Performing Under Sampling on majority class of train set**"
      ]
    },
    {
      "cell_type": "code",
      "metadata": {
        "id": "mVqmyfDLFWBA",
        "colab_type": "code",
        "outputId": "25890568-ab5b-4739-ea46-facaf07de6a1",
        "colab": {
          "base_uri": "https://localhost:8080/",
          "height": 0
        }
      },
      "source": [
        "from imblearn.under_sampling import RandomUnderSampler\n",
        "UnderSampler = RandomUnderSampler(random_state=0)\n",
        "X_resampled, y_resampled = UnderSampler.fit_resample(X_train.reshape(-1, 1), y_train)\n",
        "print(X_resampled.shape, y_resampled.shape)\n",
        "print(\"Value Counts\",np.unique(y_resampled, return_counts=True, axis=None))\n"
      ],
      "execution_count": 29,
      "outputs": [
        {
          "output_type": "stream",
          "text": [
            "/usr/local/lib/python3.6/dist-packages/sklearn/externals/six.py:31: FutureWarning: The module is deprecated in version 0.21 and will be removed in version 0.23 since we've dropped support for Python 2.7. Please rely on the official version of six (https://pypi.org/project/six/).\n",
            "  \"(https://pypi.org/project/six/).\", FutureWarning)\n",
            "/usr/local/lib/python3.6/dist-packages/sklearn/utils/deprecation.py:144: FutureWarning: The sklearn.neighbors.base module is  deprecated in version 0.22 and will be removed in version 0.24. The corresponding classes / functions should instead be imported from sklearn.neighbors. Anything that cannot be imported from sklearn.neighbors is now part of the private API.\n",
            "  warnings.warn(message, FutureWarning)\n",
            "/usr/local/lib/python3.6/dist-packages/sklearn/utils/deprecation.py:87: FutureWarning: Function safe_indexing is deprecated; safe_indexing is deprecated in version 0.22 and will be removed in version 0.24.\n",
            "  warnings.warn(msg, category=FutureWarning)\n"
          ],
          "name": "stderr"
        },
        {
          "output_type": "stream",
          "text": [
            "(63902, 1) (63902,)\n",
            "Value Counts (array([0, 1]), array([31951, 31951]))\n"
          ],
          "name": "stdout"
        }
      ]
    },
    {
      "cell_type": "code",
      "metadata": {
        "id": "VdAP-k6aP9kK",
        "colab_type": "code",
        "colab": {}
      },
      "source": [
        "X_resampled = X_resampled.ravel()"
      ],
      "execution_count": 0,
      "outputs": []
    },
    {
      "cell_type": "markdown",
      "metadata": {
        "id": "Xe1PRsOmR9ub",
        "colab_type": "text"
      },
      "source": [
        "**As we can see from above value counts of y_resampled, our train set is balanced.**"
      ]
    },
    {
      "cell_type": "markdown",
      "metadata": {
        "id": "oM6QD1MsPWN8",
        "colab_type": "text"
      },
      "source": [
        "**Now we got a Balanced dataset to train our models on!**"
      ]
    },
    {
      "cell_type": "markdown",
      "metadata": {
        "id": "kPVaihcIfKMN",
        "colab_type": "text"
      },
      "source": [
        "# Featurization"
      ]
    },
    {
      "cell_type": "markdown",
      "metadata": {
        "id": "C_eYC2itromm",
        "colab_type": "text"
      },
      "source": [
        "Now we will use different methods to convert the review text to vector"
      ]
    },
    {
      "cell_type": "markdown",
      "metadata": {
        "id": "lzjZMWMqsTO6",
        "colab_type": "text"
      },
      "source": [
        "# Bag of words"
      ]
    },
    {
      "cell_type": "code",
      "metadata": {
        "id": "0mKTsM7SRTVW",
        "colab_type": "code",
        "colab": {}
      },
      "source": [
        "def BOW(X_train, X_test):\n",
        "  ''' Vectorize text using BOW count vectorizer'''\n",
        "  vectorizer = CountVectorizer()\n",
        "  # we use the fitted CountVectorizer to convert the text to vector\n",
        "  X_train_bow = vectorizer.fit_transform(X_train)\n",
        "  X_test_bow = vectorizer.transform(X_test)\n",
        "  print(\"After vectorizations\")\n",
        "  print(X_train_bow.shape)\n",
        "  print(X_test_bow.shape)"
      ],
      "execution_count": 0,
      "outputs": []
    },
    {
      "cell_type": "code",
      "metadata": {
        "id": "iLhA_19tU-X6",
        "colab_type": "code",
        "outputId": "b9d13d5e-d52b-4b70-bd9d-17d2cc74840d",
        "colab": {
          "base_uri": "https://localhost:8080/",
          "height": 69
        }
      },
      "source": [
        "BOW(X_resampled, X_test = X_test )"
      ],
      "execution_count": 0,
      "outputs": [
        {
          "output_type": "stream",
          "text": [
            "After vectorizations\n",
            "(63680, 27960)\n",
            "(220496, 27960)\n"
          ],
          "name": "stdout"
        }
      ]
    },
    {
      "cell_type": "markdown",
      "metadata": {
        "id": "12QkccHX-gaD",
        "colab_type": "text"
      },
      "source": [
        "# Applying KNN"
      ]
    },
    {
      "cell_type": "code",
      "metadata": {
        "id": "zxVd4_v6-i78",
        "colab_type": "code",
        "outputId": "fae51457-5933-402a-f8a6-abc6a8b5974e",
        "colab": {
          "base_uri": "https://localhost:8080/",
          "height": 229
        }
      },
      "source": [
        "\n",
        "\n",
        "train_auc = []\n",
        "test_auc = []\n",
        "K = [1]\n",
        "for i in K:\n",
        "    neigh = KNeighborsClassifier(n_neighbors=i,n_jobs=-1)\n",
        "    neigh.fit(X_train_bow, y_train)\n",
        "    y_train_pred =  neigh.predict_proba(X_train_bow)[:,1]\n",
        "    y_test_pred =  neigh.predict_proba(X_test_bow)[:,1]\n",
        "  \n",
        "    train_auc.append(roc_auc_score(y_train,y_train_pred))\n",
        "    test_auc.append(roc_auc_score(y_test, y_test_pred))\n",
        "\n",
        "plt.plot(K, train_auc, label='Train AUC')\n",
        "plt.plot(K, test_auc, label='Test AUC')\n",
        "plt.legend()\n",
        "plt.xlabel(\"K: hyperparameter\")\n",
        "plt.ylabel(\"AUC\")\n",
        "plt.title(\"ERROR PLOTS\")\n",
        "plt.show()"
      ],
      "execution_count": 0,
      "outputs": [
        {
          "output_type": "error",
          "ename": "NameError",
          "evalue": "ignored",
          "traceback": [
            "\u001b[0;31m---------------------------------------------------------------------------\u001b[0m",
            "\u001b[0;31mNameError\u001b[0m                                 Traceback (most recent call last)",
            "\u001b[0;32m<ipython-input-34-7f4039e09917>\u001b[0m in \u001b[0;36m<module>\u001b[0;34m()\u001b[0m\n\u001b[1;32m      8\u001b[0m \u001b[0;32mfor\u001b[0m \u001b[0mi\u001b[0m \u001b[0;32min\u001b[0m \u001b[0mK\u001b[0m\u001b[0;34m:\u001b[0m\u001b[0;34m\u001b[0m\u001b[0;34m\u001b[0m\u001b[0m\n\u001b[1;32m      9\u001b[0m     \u001b[0mneigh\u001b[0m \u001b[0;34m=\u001b[0m \u001b[0mKNeighborsClassifier\u001b[0m\u001b[0;34m(\u001b[0m\u001b[0mn_neighbors\u001b[0m\u001b[0;34m=\u001b[0m\u001b[0mi\u001b[0m\u001b[0;34m,\u001b[0m\u001b[0mn_jobs\u001b[0m\u001b[0;34m=\u001b[0m\u001b[0;34m-\u001b[0m\u001b[0;36m1\u001b[0m\u001b[0;34m)\u001b[0m\u001b[0;34m\u001b[0m\u001b[0;34m\u001b[0m\u001b[0m\n\u001b[0;32m---> 10\u001b[0;31m     \u001b[0mneigh\u001b[0m\u001b[0;34m.\u001b[0m\u001b[0mfit\u001b[0m\u001b[0;34m(\u001b[0m\u001b[0mX_train_bow\u001b[0m\u001b[0;34m,\u001b[0m \u001b[0my_train\u001b[0m\u001b[0;34m)\u001b[0m\u001b[0;34m\u001b[0m\u001b[0;34m\u001b[0m\u001b[0m\n\u001b[0m\u001b[1;32m     11\u001b[0m     \u001b[0my_train_pred\u001b[0m \u001b[0;34m=\u001b[0m  \u001b[0mneigh\u001b[0m\u001b[0;34m.\u001b[0m\u001b[0mpredict_proba\u001b[0m\u001b[0;34m(\u001b[0m\u001b[0mX_train_bow\u001b[0m\u001b[0;34m)\u001b[0m\u001b[0;34m[\u001b[0m\u001b[0;34m:\u001b[0m\u001b[0;34m,\u001b[0m\u001b[0;36m1\u001b[0m\u001b[0;34m]\u001b[0m\u001b[0;34m\u001b[0m\u001b[0;34m\u001b[0m\u001b[0m\n\u001b[1;32m     12\u001b[0m     \u001b[0my_test_pred\u001b[0m \u001b[0;34m=\u001b[0m  \u001b[0mneigh\u001b[0m\u001b[0;34m.\u001b[0m\u001b[0mpredict_proba\u001b[0m\u001b[0;34m(\u001b[0m\u001b[0mX_test_bow\u001b[0m\u001b[0;34m)\u001b[0m\u001b[0;34m[\u001b[0m\u001b[0;34m:\u001b[0m\u001b[0;34m,\u001b[0m\u001b[0;36m1\u001b[0m\u001b[0;34m]\u001b[0m\u001b[0;34m\u001b[0m\u001b[0;34m\u001b[0m\u001b[0m\n",
            "\u001b[0;31mNameError\u001b[0m: name 'X_train_bow' is not defined"
          ]
        }
      ]
    },
    {
      "cell_type": "markdown",
      "metadata": {
        "id": "K-1K55D9sUT8",
        "colab_type": "text"
      },
      "source": [
        "# TF-IDF"
      ]
    },
    {
      "cell_type": "code",
      "metadata": {
        "id": "3AG-EpUUfM4I",
        "colab_type": "code",
        "colab": {}
      },
      "source": [
        "def TFIDF(preprocessed_reviews):\n",
        "      '''applying TF-IDF Vectorization on our corpus '''\n",
        "      tf_idf_vect = TfidfVectorizer(ngram_range=(1,2), min_df=0.01, max_df = 0.99, max_features = 5000)\n",
        "      tf_idf_vect.fit(preprocessed_reviews)\n",
        "      print(\"some sample features(unique words in the corpus)\",tf_idf_vect.get_feature_names()[0:10])\n",
        "      print('='*50)\n",
        "      final_tf_idf = tf_idf_vect.transform(preprocessed_reviews)\n",
        "      print(\"the shape of out text TFIDF vectorizer \",final_tf_idf.get_shape())\n",
        "      print(\"the number of unique words including both unigrams and bigrams \", final_tf_idf.get_shape()[1])"
      ],
      "execution_count": 0,
      "outputs": []
    },
    {
      "cell_type": "code",
      "metadata": {
        "id": "BHM-xskHd0d_",
        "colab_type": "code",
        "colab": {
          "base_uri": "https://localhost:8080/",
          "height": 85
        },
        "outputId": "9082e537-1642-4623-bd42-78458e14daee"
      },
      "source": [
        "TFIDF(X_resampled)"
      ],
      "execution_count": 37,
      "outputs": [
        {
          "output_type": "stream",
          "text": [
            "some sample features(unique words in the corpus) ['absolutely', 'actually', 'add', 'added', 'adding', 'addition', 'almond', 'almost', 'along', 'already']\n",
            "==================================================\n",
            "the shape of out text TFIDF vectorizer  (63902, 473)\n",
            "the number of unique words including both unigrams and bigrams  473\n"
          ],
          "name": "stdout"
        }
      ]
    },
    {
      "cell_type": "markdown",
      "metadata": {
        "colab_type": "text",
        "id": "kBGVeuR2q0YG"
      },
      "source": [
        "#  Building Word2Vec Model using our own text corpus"
      ]
    },
    {
      "cell_type": "code",
      "metadata": {
        "id": "-N4_MS0KvJUT",
        "colab_type": "code",
        "colab": {}
      },
      "source": [
        "\n",
        "def Word2VecOnCorpus(sentences):\n",
        "  ''' train my own Word2Vec model using our processed reviews text corpus '''\n",
        "   #Preparing Reviews for gensim model \n",
        "  list_of_sentance_train=[]\n",
        "  for sentance in sentences:\n",
        "      list_of_sentance_train.append(sentance.split())\n",
        "\n",
        "  # this line of code trains your w2v model on the give list of sentances\n",
        "  w2v_model=Word2Vec(list_of_sentance_train,min_count=4,size=100, workers=4)\n",
        "\n",
        "  w2v_words = list(w2v_model.wv.vocab)\n",
        "  print(\"Number of words that occured minimum 4 times \",len(w2v_words))\n",
        "  print(\"sample words \", w2v_words[0:50])\n",
        "  print('='*50)\n",
        "  print('Similar words to the given word using cosine similarity to investigate the learned representations')\n",
        "  print(w2v_model.wv.most_similar('great'))\n",
        "  print('='*50)\n",
        "  print(w2v_model.wv.most_similar('bad'))"
      ],
      "execution_count": 0,
      "outputs": []
    },
    {
      "cell_type": "code",
      "metadata": {
        "id": "9XgjbYDPonsi",
        "colab_type": "code",
        "colab": {
          "base_uri": "https://localhost:8080/",
          "height": 190
        },
        "outputId": "c6cfbc25-69c6-4013-8dc3-df84150ec5d8"
      },
      "source": [
        "Word2VecOnCorpus(X_resampled)"
      ],
      "execution_count": 47,
      "outputs": [
        {
          "output_type": "stream",
          "text": [
            "Number of words that occured minimum 4 times  9508\n",
            "sample words  ['not', 'going', 'give', 'star', 'made', 'change', 'may', 'affected', 'outcome', 'omitted', 'raisin', 'completely', 'used', 'oat', 'bran', 'instead', 'wheat', 'cup', 'whole', 'flour', 'added', 'half', 'quest', 'multi', 'purpose', 'mix', 'protein', 'powder', 'honey', 'rather', 'molasses', 'followed', 'recipe', 'instruction', 'got', 'muffin', 'no', 'idea', 'unless', 'making', 'jumbo', 'filled', 'top', 'batter', 'worried', 'overflow', 'rise', 'much', 'see', 'picture']\n",
            "==================================================\n",
            "Similar words to the given word using cosine similarity to investigate the learned representations\n",
            "[('wonderful', 0.8030920624732971), ('fantastic', 0.7608869075775146), ('excellent', 0.7321001291275024), ('awesome', 0.7253955602645874), ('perfect', 0.674199104309082), ('fabulous', 0.6526985168457031), ('terrific', 0.6419394016265869), ('good', 0.6297992467880249), ('nice', 0.6283421516418457), ('amazing', 0.6130922436714172)]\n",
            "==================================================\n",
            "[('awful', 0.7682255506515503), ('terrible', 0.730672299861908), ('horrible', 0.7263822555541992), ('guess', 0.7165825366973877), ('honest', 0.7121376991271973), ('reason', 0.7115945816040039), ('funny', 0.7115355730056763), ('honestly', 0.7082377672195435), ('weird', 0.7031893730163574), ('okay', 0.6999950408935547)]\n"
          ],
          "name": "stdout"
        },
        {
          "output_type": "stream",
          "text": [
            "/usr/local/lib/python3.6/dist-packages/gensim/matutils.py:737: FutureWarning: Conversion of the second argument of issubdtype from `int` to `np.signedinteger` is deprecated. In future, it will be treated as `np.int64 == np.dtype(int).type`.\n",
            "  if np.issubdtype(vec.dtype, np.int):\n"
          ],
          "name": "stderr"
        }
      ]
    },
    {
      "cell_type": "markdown",
      "metadata": {
        "id": "aOt6oi70Qb1R",
        "colab_type": "text"
      },
      "source": [
        "# Building Word2Vec Model using our own text corpus and Computing average word2vec for each review by averaging vectors of all words in that review"
      ]
    },
    {
      "cell_type": "code",
      "metadata": {
        "id": "JYC1NizsQY13",
        "colab_type": "code",
        "colab": {}
      },
      "source": [
        "def AvgWord2VecRep(sentences):\n",
        "\n",
        "    '''train my own Word2Vec model using our processed reviews text corpus and compute average word2vec for each review by averaging vectors of all words in that review'''\n",
        "     #Preparing our text for gensim model \n",
        "    list_of_sentance_train=[]\n",
        "    for sentance in sentences:\n",
        "      list_of_sentance_train.append(sentance.split())\n",
        "\n",
        "    #Building Word2Vec Model using our own text corpus  \n",
        "    w2v_model=Word2Vec(list_of_sentance_train,min_count=4,size=100, workers=4)\n",
        "    w2v_words = list(w2v_model.wv.vocab)\n",
        "\n",
        "    #Averaging word vectors of a sentence\n",
        "    sent_vectors = []; # the avg-w2v for each sentence/review is stored in this list\n",
        "    for sent in tqdm(list_of_sentance_train): # for each review/sentence\n",
        "        sent_vec = np.zeros(100) # as word vectors are of zero length 100\n",
        "        cnt_words =0; # num of words with a valid vector in the sentence/review\n",
        "        for word in sent: # for each word in a review/sentence\n",
        "            if word in w2v_words:\n",
        "                vec = w2v_model.wv[word]\n",
        "                sent_vec += vec\n",
        "                cnt_words += 1\n",
        "        if cnt_words != 0:\n",
        "            sent_vec /= cnt_words\n",
        "        sent_vectors.append(sent_vec)\n",
        "    sent_vectors_train = np.array(sent_vectors)\n",
        "    print(sent_vectors_train.shape)\n",
        "    print(sent_vectors[0])"
      ],
      "execution_count": 0,
      "outputs": []
    },
    {
      "cell_type": "code",
      "metadata": {
        "id": "YdzIaa1rufya",
        "colab_type": "code",
        "colab": {
          "base_uri": "https://localhost:8080/",
          "height": 341
        },
        "outputId": "6d6a7fc9-6012-45ec-c7cc-e0d86bf7d62e"
      },
      "source": [
        "AvgWord2VecRep(X_resampled)"
      ],
      "execution_count": 60,
      "outputs": [
        {
          "output_type": "stream",
          "text": [
            "100%|██████████| 63902/63902 [00:38<00:00, 1676.08it/s]\n"
          ],
          "name": "stderr"
        },
        {
          "output_type": "stream",
          "text": [
            "(63902, 100)\n",
            "[-0.12535977 -0.09503609 -0.54067013  0.09093773 -0.51132879  0.39970744\n",
            "  0.1639934  -0.75317852  0.29356715 -0.50492466  0.07289449  0.36223845\n",
            "  0.2375439  -0.53234591  0.27027627  0.41108286  0.35801443 -0.16447154\n",
            " -0.06591806  0.00480968  0.24977905 -0.1088526   0.2255481   0.3209452\n",
            "  0.4723125   0.11743004 -0.11512359  0.01229464  0.37794113  0.09126035\n",
            "  0.25751278 -0.2312575   0.1226084  -0.095356    0.17397889  0.24892482\n",
            " -0.00713888  0.29591088  0.0898548   0.63095197 -0.70102439  0.31179404\n",
            "  0.1396902   0.22075798 -0.32701678 -0.09750071 -0.25212101 -0.17853189\n",
            " -0.59353396  0.01573257 -0.1990064  -0.09277693  0.02503603  0.47933579\n",
            " -0.35230679  0.11335168 -0.36420106  0.11353294  0.30231351 -0.13467028\n",
            " -0.21160416 -0.28221591  0.35144933 -0.04504559 -0.63040315  0.67262007\n",
            " -0.15678429  0.25194151  0.15592533 -0.39932983  0.14517364  0.01689153\n",
            "  0.30817381 -0.07959943 -0.48513103  0.31755597 -0.55217524 -0.93964564\n",
            " -0.25273027  0.13769906 -0.02733334  0.05313994  0.51294604 -0.08261954\n",
            " -0.01444188  0.07661154  0.06840991 -0.08713563 -0.28008493  0.18699087\n",
            " -0.26010839 -0.19897814 -0.58514276  0.4005793  -0.32888429  0.39422266\n",
            "  0.07430534  0.19856107  0.17299472  0.01278573]\n"
          ],
          "name": "stdout"
        }
      ]
    },
    {
      "cell_type": "markdown",
      "metadata": {
        "id": "sUo2NPuLQyTM",
        "colab_type": "text"
      },
      "source": [
        "# Converting Test data Text to Avg W2V"
      ]
    },
    {
      "cell_type": "code",
      "metadata": {
        "id": "e-fMBJAlQ0Fw",
        "colab_type": "code",
        "outputId": "e392bb65-51dd-4f1c-f5fc-033d4aff6826",
        "colab": {
          "base_uri": "https://localhost:8080/",
          "height": 202
        }
      },
      "source": [
        "i=0\n",
        "list_of_sentance_test=[]\n",
        "for sentance in X_test:\n",
        "    list_of_sentance_test.append(sentance.split())\n",
        "\n",
        "# average Word2Vec\n",
        "# compute average word2vec for each review.\n",
        "sent_vectors_test = []; # the avg-w2v for each sentence/review is stored in this list\n",
        "for sent in tqdm(list_of_sentance_test): # for each review/sentence\n",
        "    sent_vec = np.zeros(50) # as word vectors are of zero length 50, you might need to change this to 300 if you use google's w2v\n",
        "    cnt_words =0; # num of words with a valid vector in the sentence/review\n",
        "    for word in sent: # for each word in a review/sentence\n",
        "        if word in w2v_words:\n",
        "            vec = w2v_model.wv[word]\n",
        "            sent_vec += vec\n",
        "            cnt_words += 1\n",
        "    if cnt_words != 0:\n",
        "        sent_vec /= cnt_words\n",
        "    sent_vectors_test.append(sent_vec)\n",
        "sent_vectors_test = np.array(sent_vectors_test)\n",
        "print(sent_vectors_test.shape)\n",
        "print(sent_vectors_test[0])"
      ],
      "execution_count": 0,
      "outputs": [
        {
          "output_type": "stream",
          "text": [
            "100%|██████████| 70403/70403 [03:41<00:00, 318.46it/s]\n"
          ],
          "name": "stderr"
        },
        {
          "output_type": "stream",
          "text": [
            "(70403, 50)\n",
            "[ 0.06297215 -0.14192812  0.3836453  -0.55301831  0.40639271 -1.53408594\n",
            "  0.35516252  0.02975723  0.2449142   0.15138074  1.30457036 -0.65565635\n",
            "  0.51124815 -0.36111175  0.45730648 -0.12929303 -0.70568492 -0.20468715\n",
            " -0.65196246  0.7446377  -0.30352508 -0.37555625 -0.09464471  0.66679685\n",
            "  1.56915558 -0.70198115 -0.98964007  0.39259458 -0.68566521 -0.4410602\n",
            "  0.48603958  0.25396468 -0.03244009 -1.53565942  1.21982544 -1.66362152\n",
            "  0.30117046  0.53575364 -0.13249347  0.1809834   0.59287867 -0.50167001\n",
            "  0.38422367  0.41541638 -0.19179391 -0.24636281 -0.31776545  0.81752866\n",
            "  0.02406063 -1.14643323]\n"
          ],
          "name": "stdout"
        }
      ]
    },
    {
      "cell_type": "markdown",
      "metadata": {
        "id": "0Vt0rLxCT4rR",
        "colab_type": "text"
      },
      "source": [
        "# Prediction using KNN(Avg W2V)"
      ]
    },
    {
      "cell_type": "code",
      "metadata": {
        "id": "QczF_PZgT3an",
        "colab_type": "code",
        "outputId": "d3527e38-f110-4acb-a561-79f87fb4996a",
        "colab": {
          "base_uri": "https://localhost:8080/",
          "height": 299
        }
      },
      "source": [
        "train_auc = []\n",
        "test_auc = []\n",
        "K = [1, 5, 10, 15, 21, 31, 41, 51]\n",
        "for i in K:\n",
        "    neigh = KNeighborsClassifier(n_neighbors=i, n_jobs = -1)\n",
        "    neigh.fit(sent_vectors_train, y_train)\n",
        "    # roc_auc_score(y_true, y_score) the 2nd parameter should be probability estimates of the positive class\n",
        "    # not the predicted outputs\n",
        "    y_train_pred =  neigh.predict_proba(sent_vectors_train)[:,1]\n",
        "    y_test_pred =  neigh.predict_proba(sent_vectors_test)[:,1]\n",
        "    \n",
        "    train_auc.append(roc_auc_score(y_train,y_train_pred))\n",
        "    test_auc.append(roc_auc_score(y_test, y_test_pred))\n",
        "\n",
        "plt.plot(K, train_auc, label='Train AUC')\n",
        "plt.scatter(K, train_auc, label='Train AUC')\n",
        "plt.plot(K, test_auc, label='test AUC')\n",
        "plt.scatter(K, test_auc, label='test AUC')\n",
        "plt.legend()\n",
        "plt.xlabel(\"K: hyperparameter\")\n",
        "plt.ylabel(\"AUC\")\n",
        "plt.title(\"ERROR PLOTS\")\n",
        "plt.show()"
      ],
      "execution_count": 0,
      "outputs": [
        {
          "output_type": "display_data",
          "data": {
            "image/png": "[encoded data removed]",
            "text/plain": [
              "<Figure size 432x288 with 1 Axes>"
            ]
          },
          "metadata": {
            "tags": []
          }
        }
      ]
    },
    {
      "cell_type": "code",
      "metadata": {
        "id": "PLD0QlJBUu-X",
        "colab_type": "code",
        "outputId": "db72de0d-f0b5-4a0b-e4af-0460d8a21391",
        "colab": {
          "base_uri": "https://localhost:8080/",
          "height": 118
        }
      },
      "source": [
        "from sklearn.metrics import confusion_matrix\n",
        "print(\"Train confusion matrix\")\n",
        "print(confusion_matrix(y_train, neigh.predict(sent_vectors_train)))\n",
        "print(\"Test confusion matrix\")\n",
        "print(confusion_matrix(y_test, neigh.predict(sent_vectors_test)))"
      ],
      "execution_count": 0,
      "outputs": [
        {
          "output_type": "stream",
          "text": [
            "Train confusion matrix\n",
            "[[13341 29086]\n",
            " [ 3186 97325]]\n",
            "Test confusion matrix\n",
            "[[ 6389 14526]\n",
            " [ 1768 47720]]\n"
          ],
          "name": "stdout"
        }
      ]
    },
    {
      "cell_type": "code",
      "metadata": {
        "id": "viCqxi8D0Q2E",
        "colab_type": "code",
        "colab": {}
      },
      "source": [
        "X_resampled,"
      ],
      "execution_count": 0,
      "outputs": []
    },
    {
      "cell_type": "markdown",
      "metadata": {
        "id": "rzonKL6zyr2F",
        "colab_type": "text"
      },
      "source": [
        "# TFIDF weighted Word2Vec\n"
      ]
    },
    {
      "cell_type": "code",
      "metadata": {
        "id": "RS4olzXTyu1d",
        "colab_type": "code",
        "colab": {}
      },
      "source": [
        "def TfIdfWeightedW2V(preprocessed_text):\n",
        "\n",
        "  '''Tf-Idf Weighted word2vec building for each sentence/review'''\n",
        "  #TF-IDF Vectors\n",
        "  model = TfidfVectorizer(ngram_range=(1,2), min_df=0.005, max_df = 0.99, max_features = 10000)\n",
        "  model.fit(preprocessed_text)\n",
        "  # we are converting a dictionary with word as a key, and the idf as a value\n",
        "  dictionary = dict(zip(model.get_feature_names(), list(model.idf_)))\n",
        "  tfidf_features = model.get_feature_names() # tfidf words/col-names\n",
        "\n",
        "  #Preparing our text for gensim model \n",
        "  list_of_sentance_train=[]\n",
        "  for sentance in preprocessed_text:\n",
        "      list_of_sentance_train.append(sentance.split())\n",
        "\n",
        "  #Building Word2Vec Model using our own text corpus  \n",
        "  w2v_model=Word2Vec(list_of_sentance_train,min_count=4,size=100, workers=4)\n",
        "  w2v_words = list(w2v_model.wv.vocab)\n",
        "\n",
        "  tfidf_W2V_sent_vectors = []; # the tfidf-w2v for each sentence/review is stored in this list\n",
        "\n",
        "  for sent in tqdm(list_of_sentance_train): # for each review/sentence \n",
        "      sent_vec = np.zeros(100) # as word vectors are of Length 100\n",
        "      weight_sum =0; # num of words with a valid vector in the sentence/review\n",
        "      for word in sent: # for each word in a review/sentence\n",
        "          if word in w2v_words and word in tfidf_features:\n",
        "              vec = w2v_model.wv[word]\n",
        "\n",
        "              #dictionary[word] is idf value of word in whole courpus\n",
        "              #sent.count(word) is tf valeus of word in this review/sentence\n",
        "              tf_idf = dictionary[word]*(sent.count(word)/len(sent))\n",
        "              sent_vec += (vec * tf_idf)\n",
        "              weight_sum += tf_idf\n",
        "      if weight_sum != 0:\n",
        "          sent_vec /= weight_sum\n",
        "      tfidf_W2V_sent_vectors.append(sent_vec)\n",
        "      \n",
        "  return tfidf_W2V_sent_vectors\n",
        "      "
      ],
      "execution_count": 0,
      "outputs": []
    },
    {
      "cell_type": "code",
      "metadata": {
        "id": "3Qwxz3ig2fWd",
        "colab_type": "code",
        "colab": {
          "base_uri": "https://localhost:8080/",
          "height": 34
        },
        "outputId": "a54328b8-03db-4617-c33e-675f4cfe6297"
      },
      "source": [
        "tfidf_W2V_sent_vectors = TfIdfWeightedW2V(X_resampled)"
      ],
      "execution_count": 69,
      "outputs": [
        {
          "output_type": "stream",
          "text": [
            "100%|██████████| 63902/63902 [01:02<00:00, 1020.19it/s]\n"
          ],
          "name": "stderr"
        }
      ]
    },
    {
      "cell_type": "code",
      "metadata": {
        "id": "73WGxJOs4Qc9",
        "colab_type": "code",
        "colab": {
          "base_uri": "https://localhost:8080/",
          "height": 358
        },
        "outputId": "041990fd-7b66-4186-da8b-64c449ddaf91"
      },
      "source": [
        "tfidf_W2V_sent_vectors[0]"
      ],
      "execution_count": 70,
      "outputs": [
        {
          "output_type": "execute_result",
          "data": {
            "text/plain": [
              "array([ 0.53045935, -0.5404408 , -1.55853399,  1.33124348, -0.16212338,\n",
              "        0.32128793, -0.24159047, -1.71393567,  1.09403364, -1.07622984,\n",
              "        0.09043559, -0.26972247,  0.6010062 , -1.08662122,  0.25033073,\n",
              "        0.31587715,  0.20809326, -0.03583285,  0.59316889,  0.33626832,\n",
              "        1.11035254,  0.15047155,  0.73141743,  1.1652413 ,  0.61817892,\n",
              "       -0.21271663,  1.50037432, -0.94254742,  0.74082806,  0.72272453,\n",
              "        0.85469719, -0.02323947,  0.52124485, -0.94718612,  0.10754028,\n",
              "        0.7958762 ,  0.84974503, -0.09173304, -0.10240901,  1.69454834,\n",
              "       -2.0589952 ,  0.1982641 ,  0.59665584,  0.4226367 , -0.88671442,\n",
              "       -0.4489793 , -0.18068908, -1.01065682, -1.28642632, -0.37573939,\n",
              "       -0.54925411, -0.19638848,  0.48178927,  0.46933747, -0.2212466 ,\n",
              "        0.45989831, -0.90667984, -0.15315247,  0.2350989 ,  0.22071033,\n",
              "       -0.96148831,  0.96366518,  0.24630393,  0.22846309, -0.96392517,\n",
              "        0.92251167, -0.69325482, -0.3261555 ,  0.63523868, -1.59693151,\n",
              "       -0.08475705,  0.96011061,  0.21413575,  0.60767065, -0.91155851,\n",
              "        0.16756069, -1.15872979, -1.65610848,  0.28056686,  0.47253955,\n",
              "        0.26685061, -1.62458423,  0.55252153, -0.14445203, -0.16165756,\n",
              "        0.10723058,  0.326062  , -0.00219653, -0.17220214,  0.48330045,\n",
              "       -0.88992753,  0.65463315, -1.35275061,  0.23882201, -0.20632133,\n",
              "       -0.14610364, -0.1820133 , -0.55355866,  0.3416775 , -0.71614335])"
            ]
          },
          "metadata": {
            "tags": []
          },
          "execution_count": 70
        }
      ]
    },
    {
      "cell_type": "markdown",
      "metadata": {
        "id": "w5SA2pyDp_bM",
        "colab_type": "text"
      },
      "source": [
        "# Prediction using KNN (TF-IDF Weighted W2V)"
      ]
    },
    {
      "cell_type": "code",
      "metadata": {
        "id": "9QNYjGVIp-c4",
        "colab_type": "code",
        "colab": {}
      },
      "source": [
        "train_auc = []\n",
        "test_auc = []\n",
        "K = [1, 21,41, 51]\n",
        "for i in K:\n",
        "    neigh = KNeighborsClassifier(n_neighbors=i, n_jobs = -1)\n",
        "    neigh.fit(sent_vectors_train, y_train)\n",
        "    # roc_auc_score(y_true, y_score) the 2nd parameter should be probability estimates of the positive class\n",
        "    # not the predicted outputs\n",
        "    y_train_pred =  neigh.predict_proba(sent_vectors_train)[:,1]\n",
        "    y_test_pred =  neigh.predict_proba(sent_vectors_test)[:,1]\n",
        "    \n",
        "    train_auc.append(roc_auc_score(y_train,y_train_pred))\n",
        "    test_auc.append(roc_auc_score(y_test, y_test_pred))\n",
        "\n",
        "plt.plot(K, train_auc, label='Train AUC')\n",
        "plt.scatter(K, train_auc, label='Train AUC')\n",
        "plt.plot(K, test_auc, label='test AUC')\n",
        "plt.scatter(K, test_auc, label='test AUC')\n",
        "plt.legend()\n",
        "plt.xlabel(\"K: hyperparameter\")\n",
        "plt.ylabel(\"AUC\")\n",
        "plt.title(\"ERROR PLOTS\")\n",
        "plt.show()"
      ],
      "execution_count": 0,
      "outputs": []
    },
    {
      "cell_type": "code",
      "metadata": {
        "id": "-mI12soIqh-B",
        "colab_type": "code",
        "colab": {}
      },
      "source": [
        "from sklearn.metrics import confusion_matrix\n",
        "print(\"Train confusion matrix\")\n",
        "print(confusion_matrix(y_train, neigh.predict(sent_vectors_train)))\n",
        "print(\"Test confusion matrix\")\n",
        "print(confusion_matrix(y_test, neigh.predict(sent_vectors_test)))"
      ],
      "execution_count": 0,
      "outputs": []
    },
    {
      "cell_type": "markdown",
      "metadata": {
        "id": "SJEre2ulvPbD",
        "colab_type": "text"
      },
      "source": [
        "#Feature Engineering Cuisine"
      ]
    },
    {
      "cell_type": "markdown",
      "metadata": {
        "id": "o1HfZ_-zqTCm",
        "colab_type": "text"
      },
      "source": [
        "Surprisingly there is no Cuisine information in the data. \n",
        "\n",
        "It would be very helpful if we know which cuisine a recipe belongs to. So that we can further analyze things like which cuisine have more positive reviews, which cuisine have high nutritional value etc.\n",
        "\n",
        "\n",
        "I've searched the datasets which contain cusine information and found a dataset that has ingredients and cuisine information.\n",
        "\n",
        "We can use that data to train a model and use that model to predict cuisines for our dataset.\n",
        "\n",
        "Let's start by importing it."
      ]
    },
    {
      "cell_type": "code",
      "metadata": {
        "id": "SBlQ7EvntZcU",
        "colab_type": "code",
        "outputId": "268a8c51-0a4f-474c-9293-4f9ad78650c5",
        "colab": {
          "base_uri": "https://localhost:8080/",
          "height": 197
        }
      },
      "source": [
        "train_Cuisines = pd.read_json('/content/drive/My Drive/Colab Notebooks/Food_Data/train.json')\n",
        "train_Cuisines.head()"
      ],
      "execution_count": 0,
      "outputs": [
        {
          "output_type": "execute_result",
          "data": {
            "text/html": [
              "<div>\n",
              "<style scoped>\n",
              "    .dataframe tbody tr th:only-of-type {\n",
              "        vertical-align: middle;\n",
              "    }\n",
              "\n",
              "    .dataframe tbody tr th {\n",
              "        vertical-align: top;\n",
              "    }\n",
              "\n",
              "    .dataframe thead th {\n",
              "        text-align: right;\n",
              "    }\n",
              "</style>\n",
              "<table border=\"1\" class=\"dataframe\">\n",
              "  <thead>\n",
              "    <tr style=\"text-align: right;\">\n",
              "      <th></th>\n",
              "      <th>id</th>\n",
              "      <th>cuisine</th>\n",
              "      <th>ingredients</th>\n",
              "    </tr>\n",
              "  </thead>\n",
              "  <tbody>\n",
              "    <tr>\n",
              "      <th>0</th>\n",
              "      <td>10259</td>\n",
              "      <td>greek</td>\n",
              "      <td>[romaine lettuce, black olives, grape tomatoes...</td>\n",
              "    </tr>\n",
              "    <tr>\n",
              "      <th>1</th>\n",
              "      <td>25693</td>\n",
              "      <td>southern_us</td>\n",
              "      <td>[plain flour, ground pepper, salt, tomatoes, g...</td>\n",
              "    </tr>\n",
              "    <tr>\n",
              "      <th>2</th>\n",
              "      <td>20130</td>\n",
              "      <td>filipino</td>\n",
              "      <td>[eggs, pepper, salt, mayonaise, cooking oil, g...</td>\n",
              "    </tr>\n",
              "    <tr>\n",
              "      <th>3</th>\n",
              "      <td>22213</td>\n",
              "      <td>indian</td>\n",
              "      <td>[water, vegetable oil, wheat, salt]</td>\n",
              "    </tr>\n",
              "    <tr>\n",
              "      <th>4</th>\n",
              "      <td>13162</td>\n",
              "      <td>indian</td>\n",
              "      <td>[black pepper, shallots, cornflour, cayenne pe...</td>\n",
              "    </tr>\n",
              "  </tbody>\n",
              "</table>\n",
              "</div>"
            ],
            "text/plain": [
              "      id      cuisine                                        ingredients\n",
              "0  10259        greek  [romaine lettuce, black olives, grape tomatoes...\n",
              "1  25693  southern_us  [plain flour, ground pepper, salt, tomatoes, g...\n",
              "2  20130     filipino  [eggs, pepper, salt, mayonaise, cooking oil, g...\n",
              "3  22213       indian                [water, vegetable oil, wheat, salt]\n",
              "4  13162       indian  [black pepper, shallots, cornflour, cayenne pe..."
            ]
          },
          "metadata": {
            "tags": []
          },
          "execution_count": 29
        }
      ]
    },
    {
      "cell_type": "markdown",
      "metadata": {
        "id": "dDrUs_Sx1YCl",
        "colab_type": "text"
      },
      "source": [
        "As we are dealing with textual data we have to vectorize ingreidents text.\n",
        "\n",
        "For this we will use TF-IDF Vectorizer instad of count vectorizer as it will take into consideration the Frequency of words in document(TF) and also the frequency in all corpus documents(IDF)"
      ]
    },
    {
      "cell_type": "code",
      "metadata": {
        "id": "1ly6cEXFNpMZ",
        "colab_type": "code",
        "outputId": "bbaf6a29-4a2d-40e0-d521-defddb528808",
        "colab": {
          "base_uri": "https://localhost:8080/",
          "height": 307
        }
      },
      "source": [
        "train_Cuisines['ingredient_list'] = [','.join(z).strip() for z in train_Cuisines['ingredients']]\n",
        "\n",
        "ingredients = train_Cuisines['ingredient_list']\n",
        "\n",
        "Tfidfvectorizer = TfidfVectorizer(stop_words='english')\n",
        "\n",
        "tfidf_dense_matrix= Tfidfvectorizer.fit_transform(ingredients).todense()\n",
        "cuisines = train_Cuisines['cuisine']\n",
        "\n",
        "print(\"TF-IDF Matrix looks like below :\\n\",tfidf_dense_matrix,\"\\n\")\n",
        "print(\"Cuisine looks like below :\\n\",cuisines.head(),\"\\n\")"
      ],
      "execution_count": 0,
      "outputs": [
        {
          "output_type": "stream",
          "text": [
            "TF-IDF Matrix looks like below :\n",
            " [[0. 0. 0. ... 0. 0. 0.]\n",
            " [0. 0. 0. ... 0. 0. 0.]\n",
            " [0. 0. 0. ... 0. 0. 0.]\n",
            " ...\n",
            " [0. 0. 0. ... 0. 0. 0.]\n",
            " [0. 0. 0. ... 0. 0. 0.]\n",
            " [0. 0. 0. ... 0. 0. 0.]] \n",
            "\n",
            "Cuisine looks like below :\n",
            " 0          greek\n",
            "1    southern_us\n",
            "2       filipino\n",
            "3         indian\n",
            "4         indian\n",
            "Name: cuisine, dtype: object \n",
            "\n"
          ],
          "name": "stdout"
        }
      ]
    },
    {
      "cell_type": "code",
      "metadata": {
        "id": "jYHvGTbWP5Z7",
        "colab_type": "code",
        "outputId": "cd88659e-163c-45d6-bea1-6d8fc1b06a43",
        "colab": {
          "base_uri": "https://localhost:8080/",
          "height": 34
        }
      },
      "source": [
        "tfidf_dense_matrix.shape"
      ],
      "execution_count": 0,
      "outputs": [
        {
          "output_type": "execute_result",
          "data": {
            "text/plain": [
              "(39774, 2970)"
            ]
          },
          "metadata": {
            "tags": []
          },
          "execution_count": 31
        }
      ]
    },
    {
      "cell_type": "markdown",
      "metadata": {
        "id": "KS0gs5tBPaV9",
        "colab_type": "text"
      },
      "source": [
        "We will use Random forest model and train a model to predict cuisines given ingredients\n",
        "\n",
        "First we will split dataset into train and test sets.\n",
        "\n",
        "We will use train set for hyper parameter tuning and cross validation.\n",
        "\n",
        "\n",
        "We will use test set to see how well our trained model performs on unseen data"
      ]
    },
    {
      "cell_type": "code",
      "metadata": {
        "id": "F_GgZHlMPtmp",
        "colab_type": "code",
        "colab": {}
      },
      "source": [
        "X_train, X_test, y_train, y_test = train_test_split(tfidf_dense_matrix, cuisines, test_size=0.3)\n",
        "\n",
        "\n",
        "def train_model(model, feature_df, target_df, num_procs, Accuracy ):\n",
        "    Accuracy[model] = np.mean( cross_val_score(model, feature_df, target_df, cv=5, n_jobs=num_procs, scoring= 'accuracy'))\n",
        "    \n",
        "def TestSet_Results(model,X_train, X_test, y_train, y_test ):\n",
        "      model.fit(X_train,y_train)\n",
        "      Test_pred = model.predict(X_test)\n",
        "      Accuracy[model] = accuracy_score(y_test,Test_pred)\n",
        "      print('Test Accuracy:\\n', Test_Accuracy[model])\n",
        "def print_summary(model, Accuracy):\n",
        "    print('\\nModel:\\n', model)\n",
        "    print('Average Accuracy:\\n', Accuracy[model])     \n",
        "\n",
        "#initialize model list and dicts\n",
        "models = []\n",
        "Accuracy = {}\n",
        "res = {}\n",
        "Test_Accuracy = {}\n",
        "#define number of processes to run in parallel\n",
        "num_procs = 2\n",
        "\n",
        "#shared model paramaters\n",
        "verbose_lvl = 0\n",
        "\n",
        "\n",
        "RandomForest = RandomForestClassifier()\n",
        "XGB_Classifier =XGBClassifier()\n",
        "                      \n",
        "models.extend([RandomForest, XGB_Classifier])\n"
      ],
      "execution_count": 0,
      "outputs": []
    },
    {
      "cell_type": "code",
      "metadata": {
        "id": "qYOTx7PhgahG",
        "colab_type": "code",
        "outputId": "ceac1b1b-f905-4325-c6ae-246e16a10ad3",
        "colab": {
          "base_uri": "https://localhost:8080/",
          "height": 470
        }
      },
      "source": [
        "#parallel cross-validate models, using MSE as evaluation metric, and print summaries\n",
        "print(\"Beginning cross validation\")\n",
        "for model in models:\n",
        "    train_model(model, X_train, y_train, num_procs, Accuracy)\n",
        "    TestSet_Results(model,X_train, X_test, y_train, y_test)\n",
        "    print_summary(model, Accuracy)"
      ],
      "execution_count": 0,
      "outputs": [
        {
          "output_type": "stream",
          "text": [
            "Beginning cross validation\n"
          ],
          "name": "stdout"
        },
        {
          "output_type": "error",
          "ename": "KeyError",
          "evalue": "ignored",
          "traceback": [
            "\u001b[0;31m---------------------------------------------------------------------------\u001b[0m",
            "\u001b[0;31mKeyError\u001b[0m                                  Traceback (most recent call last)",
            "\u001b[0;32m<ipython-input-33-a1b1141458f3>\u001b[0m in \u001b[0;36m<module>\u001b[0;34m()\u001b[0m\n\u001b[1;32m      2\u001b[0m \u001b[0;32mfor\u001b[0m \u001b[0mmodel\u001b[0m \u001b[0;32min\u001b[0m \u001b[0mmodels\u001b[0m\u001b[0;34m:\u001b[0m\u001b[0;34m\u001b[0m\u001b[0;34m\u001b[0m\u001b[0m\n\u001b[1;32m      3\u001b[0m     \u001b[0mtrain_model\u001b[0m\u001b[0;34m(\u001b[0m\u001b[0mmodel\u001b[0m\u001b[0;34m,\u001b[0m \u001b[0mX_train\u001b[0m\u001b[0;34m,\u001b[0m \u001b[0my_train\u001b[0m\u001b[0;34m,\u001b[0m \u001b[0mnum_procs\u001b[0m\u001b[0;34m,\u001b[0m \u001b[0mAccuracy\u001b[0m\u001b[0;34m)\u001b[0m\u001b[0;34m\u001b[0m\u001b[0;34m\u001b[0m\u001b[0m\n\u001b[0;32m----> 4\u001b[0;31m     \u001b[0mTestSet_Results\u001b[0m\u001b[0;34m(\u001b[0m\u001b[0mmodel\u001b[0m\u001b[0;34m,\u001b[0m\u001b[0mX_train\u001b[0m\u001b[0;34m,\u001b[0m \u001b[0mX_test\u001b[0m\u001b[0;34m,\u001b[0m \u001b[0my_train\u001b[0m\u001b[0;34m,\u001b[0m \u001b[0my_test\u001b[0m\u001b[0;34m)\u001b[0m\u001b[0;34m\u001b[0m\u001b[0;34m\u001b[0m\u001b[0m\n\u001b[0m\u001b[1;32m      5\u001b[0m     \u001b[0mprint_summary\u001b[0m\u001b[0;34m(\u001b[0m\u001b[0mmodel\u001b[0m\u001b[0;34m,\u001b[0m \u001b[0mAccuracy\u001b[0m\u001b[0;34m)\u001b[0m\u001b[0;34m\u001b[0m\u001b[0;34m\u001b[0m\u001b[0m\n",
            "\u001b[0;32m<ipython-input-32-6a8888359ce3>\u001b[0m in \u001b[0;36mTestSet_Results\u001b[0;34m(model, X_train, X_test, y_train, y_test)\u001b[0m\n\u001b[1;32m      9\u001b[0m       \u001b[0mTest_pred\u001b[0m \u001b[0;34m=\u001b[0m \u001b[0mmodel\u001b[0m\u001b[0;34m.\u001b[0m\u001b[0mpredict\u001b[0m\u001b[0;34m(\u001b[0m\u001b[0mX_test\u001b[0m\u001b[0;34m)\u001b[0m\u001b[0;34m\u001b[0m\u001b[0;34m\u001b[0m\u001b[0m\n\u001b[1;32m     10\u001b[0m       \u001b[0mAccuracy\u001b[0m\u001b[0;34m[\u001b[0m\u001b[0mmodel\u001b[0m\u001b[0;34m]\u001b[0m \u001b[0;34m=\u001b[0m \u001b[0maccuracy_score\u001b[0m\u001b[0;34m(\u001b[0m\u001b[0my_test\u001b[0m\u001b[0;34m,\u001b[0m\u001b[0mTest_pred\u001b[0m\u001b[0;34m)\u001b[0m\u001b[0;34m\u001b[0m\u001b[0;34m\u001b[0m\u001b[0m\n\u001b[0;32m---> 11\u001b[0;31m       \u001b[0mprint\u001b[0m\u001b[0;34m(\u001b[0m\u001b[0;34m'Test Accuracy:\\n'\u001b[0m\u001b[0;34m,\u001b[0m \u001b[0mTest_Accuracy\u001b[0m\u001b[0;34m[\u001b[0m\u001b[0mmodel\u001b[0m\u001b[0;34m]\u001b[0m\u001b[0;34m)\u001b[0m\u001b[0;34m\u001b[0m\u001b[0;34m\u001b[0m\u001b[0m\n\u001b[0m\u001b[1;32m     12\u001b[0m \u001b[0;32mdef\u001b[0m \u001b[0mprint_summary\u001b[0m\u001b[0;34m(\u001b[0m\u001b[0mmodel\u001b[0m\u001b[0;34m,\u001b[0m \u001b[0mAccuracy\u001b[0m\u001b[0;34m)\u001b[0m\u001b[0;34m:\u001b[0m\u001b[0;34m\u001b[0m\u001b[0;34m\u001b[0m\u001b[0m\n\u001b[1;32m     13\u001b[0m     \u001b[0mprint\u001b[0m\u001b[0;34m(\u001b[0m\u001b[0;34m'\\nModel:\\n'\u001b[0m\u001b[0;34m,\u001b[0m \u001b[0mmodel\u001b[0m\u001b[0;34m)\u001b[0m\u001b[0;34m\u001b[0m\u001b[0;34m\u001b[0m\u001b[0m\n",
            "\u001b[0;31mKeyError\u001b[0m: RandomForestClassifier(bootstrap=True, ccp_alpha=0.0, class_weight=None,\n                       criterion='gini', max_depth=None, max_features='auto',\n                       max_leaf_nodes=None, max_samples=None,\n                       min_impurity_decrease=0.0, min_impurity_split=None,\n                       min_samples_leaf=1, min_samples_split=2,\n                       min_weight_fraction_leaf=0.0, n_estimators=100,\n                       n_jobs=None, oob_score=False, random_state=None,\n                       verbose=0, warm_start=False)"
          ]
        }
      ]
    },
    {
      "cell_type": "markdown",
      "metadata": {
        "id": "CLGPUQUef2q4",
        "colab_type": "text"
      },
      "source": [
        "Random forest model has the best accuracy scores\n",
        "\n",
        "So, we will use that to finally train on all the train data and test it on test set to see it's per class recall and precision"
      ]
    },
    {
      "cell_type": "code",
      "metadata": {
        "id": "lmdBtpDZf2Oh",
        "colab_type": "code",
        "colab": {}
      },
      "source": [
        "model = RandomForestClassifier()\n",
        "model.fit(X_train,y_train)\n",
        "Test_pred = model.predict(X_test)\n",
        "\n",
        "print(\"mtest set accuracy : \",accuracy_score(y_test, Test_pred))\n",
        "cuisines = train_Cuisines['cuisine'].value_counts().index\n",
        "print(classification_report(y_test, Test_pred, target_names=cuisines))"
      ],
      "execution_count": 0,
      "outputs": []
    },
    {
      "cell_type": "markdown",
      "metadata": {
        "id": "3bkrMHEHkumL",
        "colab_type": "text"
      },
      "source": [
        "As we trained our model with the TF_IDF vectorizer we must use the same for Recipe predictions on full Food.com Dataset "
      ]
    },
    {
      "cell_type": "code",
      "metadata": {
        "id": "JQ4_vKNNn__N",
        "colab_type": "code",
        "colab": {}
      },
      "source": [
        "\n",
        "#Vectorize ingredients based on previously fitted Tfidfvectorizer\n",
        "ingredients_matrix = Tfidfvectorizer.transform(Merged_Data2['ingredients'])\n",
        "\n",
        "\n",
        "#Use previously created randomforest model trained on kaggle cuisine data\n",
        "cuisines_for_ingredients = model.predict(ingredients_matrix)\n",
        "\n",
        "\n",
        "#Create new cuisine column in original dataframe\n",
        "Merged_Data2['cuisine'] = cuisines_for_ingredients\n",
        "Merged_Data2.head()"
      ],
      "execution_count": 0,
      "outputs": []
    },
    {
      "cell_type": "markdown",
      "metadata": {
        "id": "KwPq3uAe6GGA",
        "colab_type": "text"
      },
      "source": [
        "We added cuisine information for each recipe!!\n",
        "\n",
        "Now we will look into various visuals that answer many questions regarding cusines."
      ]
    },
    {
      "cell_type": "markdown",
      "metadata": {
        "id": "sH41Fv0Id6Kl",
        "colab_type": "text"
      },
      "source": [
        "Which cusine have average highest Ratings?"
      ]
    },
    {
      "cell_type": "code",
      "metadata": {
        "id": "U3bX73G_6dxk",
        "colab_type": "code",
        "colab": {}
      },
      "source": [
        "DataFrameVis = Merged_Data2.groupby('cuisine')['rating'].agg(['mean','count'])\\\n",
        "                                                        .rename(columns={\"mean\": \"average_rating\", \"count\": \"No_of_Reviews\"})\n",
        "DataFrameVis.reset_index(inplace=True)    \n",
        "DataFrameVis                                                 "
      ],
      "execution_count": 0,
      "outputs": []
    },
    {
      "cell_type": "code",
      "metadata": {
        "id": "QolO8ntPhK0g",
        "colab_type": "code",
        "colab": {}
      },
      "source": [
        "fig , (ax1, ax2) = plt.subplots(1,2,figsize=(20,10))\n",
        "plt.style.use('fivethirtyeight')\n",
        "ax1.barh(y= DataFrameVis['cuisine'], width= DataFrameVis['average_rating'])\n",
        "ax1.set(xlabel='Rating', ylabel='Cuisine ',title=\"Average rating per cuisine\")\n",
        "\n",
        "\n",
        "ax2.barh( y= DataFrameVis['cuisine'], width=DataFrameVis['No_of_Reviews'])\n",
        "ax2.set(ylabel='Cuisine', xlabel='No_of_Reviews ',title=\"No_of_Reviews per cuisine\")\n",
        "\n",
        "plt.show()\n"
      ],
      "execution_count": 0,
      "outputs": []
    },
    {
      "cell_type": "markdown",
      "metadata": {
        "id": "CBvXLgZnqio9",
        "colab_type": "text"
      },
      "source": [
        "Now we will see count of recipes we have for each cuisine in food.com"
      ]
    },
    {
      "cell_type": "code",
      "metadata": {
        "id": "qS9eA_14quf6",
        "colab_type": "code",
        "colab": {}
      },
      "source": [
        "DataFrameVis = Merged_Data2.groupby('cuisine')['recipe_id'].nunique()\n",
        "DataFrameVis = pd.DataFrame(DataFrameVis)\n",
        "DataFrameVis.reset_index(inplace=True)\n",
        "fig ,ax1 = plt.subplots(1,1,figsize=(10,10))\n",
        "plt.style.use('fivethirtyeight')\n",
        "ax1.barh(y= DataFrameVis['cuisine'], width= DataFrameVis['recipe_id'])\n",
        "ax1.set(xlabel='Count of recipes', ylabel='Cuisine ',title=\"Count of recipes per cuisine\")\n",
        "#plt.xticks(rotation=65)"
      ],
      "execution_count": 0,
      "outputs": []
    },
    {
      "cell_type": "markdown",
      "metadata": {
        "id": "qRgaJaFEwird",
        "colab_type": "text"
      },
      "source": [
        "By looking at the above visualization we can clearly observe the domination of some cusines over other cusines and surprisingly we see similar ratings for each cusine.\n",
        "\n",
        "We can further dive deep into this and we will see if we can find some interesting answers to questions like what king of recipes are rated high?\n",
        "\n",
        "We can use clustering for this kind of un-supervised learning task."
      ]
    },
    {
      "cell_type": "markdown",
      "metadata": {
        "id": "w3buveMkx61n",
        "colab_type": "text"
      },
      "source": [
        "# Clustering to Dig deep into recipe ratings"
      ]
    },
    {
      "cell_type": "code",
      "metadata": {
        "id": "SRxIFv0AyC9U",
        "colab_type": "code",
        "outputId": "a9187253-7bd7-4af9-91f3-e5e51ef7c042",
        "colab": {
          "base_uri": "https://localhost:8080/",
          "height": 395
        }
      },
      "source": [
        "#Clustering by ingredients\n",
        "\n",
        "#We will cluster data points using the ingredients data and see if we can find interesting patterns in those clusters\n",
        "\n",
        "#Creating Vectorizer model, with taking top 1000 words from the ingredients text\n",
        "vectorize = TfidfVectorizer(max_features= 1000, stop_words='english')\n",
        "\n",
        "ingredients_matrix = vectorize.fit_transform(Merged_Data2['ingredients'])\n",
        "\n",
        "#Converting the spared matrix to dense matrix and creating pandas DF from it\n",
        "ingredients_DF = pd.DataFrame(ingredients_matrix.todense(),index=Merged_Data2.index)\n",
        "ingredients_DF.columns=vectorize.get_feature_names()\n",
        "ingredients_DF.head(10)\n",
        "\n"
      ],
      "execution_count": 0,
      "outputs": [
        {
          "output_type": "execute_result",
          "data": {
            "text/html": [
              "<div>\n",
              "<style scoped>\n",
              "    .dataframe tbody tr th:only-of-type {\n",
              "        vertical-align: middle;\n",
              "    }\n",
              "\n",
              "    .dataframe tbody tr th {\n",
              "        vertical-align: top;\n",
              "    }\n",
              "\n",
              "    .dataframe thead th {\n",
              "        text-align: right;\n",
              "    }\n",
              "</style>\n",
              "<table border=\"1\" class=\"dataframe\">\n",
              "  <thead>\n",
              "    <tr style=\"text-align: right;\">\n",
              "      <th></th>\n",
              "      <th>10</th>\n",
              "      <th>acorn</th>\n",
              "      <th>active</th>\n",
              "      <th>added</th>\n",
              "      <th>adobo</th>\n",
              "      <th>agave</th>\n",
              "      <th>albacore</th>\n",
              "      <th>ale</th>\n",
              "      <th>alfredo</th>\n",
              "      <th>allspice</th>\n",
              "      <th>almond</th>\n",
              "      <th>almonds</th>\n",
              "      <th>aluminum</th>\n",
              "      <th>amaretto</th>\n",
              "      <th>amarula</th>\n",
              "      <th>american</th>\n",
              "      <th>ancho</th>\n",
              "      <th>anchovy</th>\n",
              "      <th>andouille</th>\n",
              "      <th>angel</th>\n",
              "      <th>anise</th>\n",
              "      <th>apple</th>\n",
              "      <th>apples</th>\n",
              "      <th>applesauce</th>\n",
              "      <th>apricot</th>\n",
              "      <th>apricots</th>\n",
              "      <th>arborio</th>\n",
              "      <th>artichoke</th>\n",
              "      <th>artichokes</th>\n",
              "      <th>artificial</th>\n",
              "      <th>arugula</th>\n",
              "      <th>asiago</th>\n",
              "      <th>asparagus</th>\n",
              "      <th>avocado</th>\n",
              "      <th>avocados</th>\n",
              "      <th>baby</th>\n",
              "      <th>bacon</th>\n",
              "      <th>bag</th>\n",
              "      <th>bagels</th>\n",
              "      <th>bags</th>\n",
              "      <th>...</th>\n",
              "      <th>walnut</th>\n",
              "      <th>walnuts</th>\n",
              "      <th>warm</th>\n",
              "      <th>wasabi</th>\n",
              "      <th>water</th>\n",
              "      <th>watercress</th>\n",
              "      <th>watermelon</th>\n",
              "      <th>wax</th>\n",
              "      <th>wedge</th>\n",
              "      <th>wedges</th>\n",
              "      <th>weed</th>\n",
              "      <th>wheat</th>\n",
              "      <th>whip</th>\n",
              "      <th>whipped</th>\n",
              "      <th>whipping</th>\n",
              "      <th>whiskey</th>\n",
              "      <th>white</th>\n",
              "      <th>whites</th>\n",
              "      <th>wide</th>\n",
              "      <th>wild</th>\n",
              "      <th>wine</th>\n",
              "      <th>wings</th>\n",
              "      <th>wonton</th>\n",
              "      <th>wooden</th>\n",
              "      <th>worcestershire</th>\n",
              "      <th>wrap</th>\n",
              "      <th>wrappers</th>\n",
              "      <th>wraps</th>\n",
              "      <th>xanthan</th>\n",
              "      <th>yams</th>\n",
              "      <th>yeast</th>\n",
              "      <th>yellow</th>\n",
              "      <th>yoghurt</th>\n",
              "      <th>yogurt</th>\n",
              "      <th>yolk</th>\n",
              "      <th>yolks</th>\n",
              "      <th>yukon</th>\n",
              "      <th>zest</th>\n",
              "      <th>ziti</th>\n",
              "      <th>zucchini</th>\n",
              "    </tr>\n",
              "  </thead>\n",
              "  <tbody>\n",
              "    <tr>\n",
              "      <th>0</th>\n",
              "      <td>0.0</td>\n",
              "      <td>0.0</td>\n",
              "      <td>0.0</td>\n",
              "      <td>0.0</td>\n",
              "      <td>0.0</td>\n",
              "      <td>0.0</td>\n",
              "      <td>0.0</td>\n",
              "      <td>0.0</td>\n",
              "      <td>0.0</td>\n",
              "      <td>0.0</td>\n",
              "      <td>0.0</td>\n",
              "      <td>0.0</td>\n",
              "      <td>0.0</td>\n",
              "      <td>0.0</td>\n",
              "      <td>0.0</td>\n",
              "      <td>0.0</td>\n",
              "      <td>0.0</td>\n",
              "      <td>0.0</td>\n",
              "      <td>0.0</td>\n",
              "      <td>0.0</td>\n",
              "      <td>0.0</td>\n",
              "      <td>0.0</td>\n",
              "      <td>0.0</td>\n",
              "      <td>0.0</td>\n",
              "      <td>0.0</td>\n",
              "      <td>0.0</td>\n",
              "      <td>0.0</td>\n",
              "      <td>0.0</td>\n",
              "      <td>0.0</td>\n",
              "      <td>0.0</td>\n",
              "      <td>0.0</td>\n",
              "      <td>0.0</td>\n",
              "      <td>0.0</td>\n",
              "      <td>0.0</td>\n",
              "      <td>0.0</td>\n",
              "      <td>0.0</td>\n",
              "      <td>0.0</td>\n",
              "      <td>0.0</td>\n",
              "      <td>0.0</td>\n",
              "      <td>0.0</td>\n",
              "      <td>...</td>\n",
              "      <td>0.0</td>\n",
              "      <td>0.0</td>\n",
              "      <td>0.0</td>\n",
              "      <td>0.0</td>\n",
              "      <td>0.000000</td>\n",
              "      <td>0.0</td>\n",
              "      <td>0.0</td>\n",
              "      <td>0.0</td>\n",
              "      <td>0.0</td>\n",
              "      <td>0.0</td>\n",
              "      <td>0.0</td>\n",
              "      <td>0.0</td>\n",
              "      <td>0.0</td>\n",
              "      <td>0.0</td>\n",
              "      <td>0.0</td>\n",
              "      <td>0.0</td>\n",
              "      <td>0.0</td>\n",
              "      <td>0.0</td>\n",
              "      <td>0.0</td>\n",
              "      <td>0.0</td>\n",
              "      <td>0.000000</td>\n",
              "      <td>0.0</td>\n",
              "      <td>0.0</td>\n",
              "      <td>0.0</td>\n",
              "      <td>0.0</td>\n",
              "      <td>0.0</td>\n",
              "      <td>0.0</td>\n",
              "      <td>0.0</td>\n",
              "      <td>0.0</td>\n",
              "      <td>0.0</td>\n",
              "      <td>0.0</td>\n",
              "      <td>0.000000</td>\n",
              "      <td>0.0</td>\n",
              "      <td>0.0</td>\n",
              "      <td>0.0</td>\n",
              "      <td>0.0</td>\n",
              "      <td>0.0</td>\n",
              "      <td>0.0</td>\n",
              "      <td>0.0</td>\n",
              "      <td>0.0</td>\n",
              "    </tr>\n",
              "    <tr>\n",
              "      <th>1</th>\n",
              "      <td>0.0</td>\n",
              "      <td>0.0</td>\n",
              "      <td>0.0</td>\n",
              "      <td>0.0</td>\n",
              "      <td>0.0</td>\n",
              "      <td>0.0</td>\n",
              "      <td>0.0</td>\n",
              "      <td>0.0</td>\n",
              "      <td>0.0</td>\n",
              "      <td>0.0</td>\n",
              "      <td>0.0</td>\n",
              "      <td>0.0</td>\n",
              "      <td>0.0</td>\n",
              "      <td>0.0</td>\n",
              "      <td>0.0</td>\n",
              "      <td>0.0</td>\n",
              "      <td>0.0</td>\n",
              "      <td>0.0</td>\n",
              "      <td>0.0</td>\n",
              "      <td>0.0</td>\n",
              "      <td>0.0</td>\n",
              "      <td>0.0</td>\n",
              "      <td>0.0</td>\n",
              "      <td>0.0</td>\n",
              "      <td>0.0</td>\n",
              "      <td>0.0</td>\n",
              "      <td>0.0</td>\n",
              "      <td>0.0</td>\n",
              "      <td>0.0</td>\n",
              "      <td>0.0</td>\n",
              "      <td>0.0</td>\n",
              "      <td>0.0</td>\n",
              "      <td>0.0</td>\n",
              "      <td>0.0</td>\n",
              "      <td>0.0</td>\n",
              "      <td>0.0</td>\n",
              "      <td>0.0</td>\n",
              "      <td>0.0</td>\n",
              "      <td>0.0</td>\n",
              "      <td>0.0</td>\n",
              "      <td>...</td>\n",
              "      <td>0.0</td>\n",
              "      <td>0.0</td>\n",
              "      <td>0.0</td>\n",
              "      <td>0.0</td>\n",
              "      <td>0.000000</td>\n",
              "      <td>0.0</td>\n",
              "      <td>0.0</td>\n",
              "      <td>0.0</td>\n",
              "      <td>0.0</td>\n",
              "      <td>0.0</td>\n",
              "      <td>0.0</td>\n",
              "      <td>0.0</td>\n",
              "      <td>0.0</td>\n",
              "      <td>0.0</td>\n",
              "      <td>0.0</td>\n",
              "      <td>0.0</td>\n",
              "      <td>0.0</td>\n",
              "      <td>0.0</td>\n",
              "      <td>0.0</td>\n",
              "      <td>0.0</td>\n",
              "      <td>0.000000</td>\n",
              "      <td>0.0</td>\n",
              "      <td>0.0</td>\n",
              "      <td>0.0</td>\n",
              "      <td>0.0</td>\n",
              "      <td>0.0</td>\n",
              "      <td>0.0</td>\n",
              "      <td>0.0</td>\n",
              "      <td>0.0</td>\n",
              "      <td>0.0</td>\n",
              "      <td>0.0</td>\n",
              "      <td>0.000000</td>\n",
              "      <td>0.0</td>\n",
              "      <td>0.0</td>\n",
              "      <td>0.0</td>\n",
              "      <td>0.0</td>\n",
              "      <td>0.0</td>\n",
              "      <td>0.0</td>\n",
              "      <td>0.0</td>\n",
              "      <td>0.0</td>\n",
              "    </tr>\n",
              "    <tr>\n",
              "      <th>2</th>\n",
              "      <td>0.0</td>\n",
              "      <td>0.0</td>\n",
              "      <td>0.0</td>\n",
              "      <td>0.0</td>\n",
              "      <td>0.0</td>\n",
              "      <td>0.0</td>\n",
              "      <td>0.0</td>\n",
              "      <td>0.0</td>\n",
              "      <td>0.0</td>\n",
              "      <td>0.0</td>\n",
              "      <td>0.0</td>\n",
              "      <td>0.0</td>\n",
              "      <td>0.0</td>\n",
              "      <td>0.0</td>\n",
              "      <td>0.0</td>\n",
              "      <td>0.0</td>\n",
              "      <td>0.0</td>\n",
              "      <td>0.0</td>\n",
              "      <td>0.0</td>\n",
              "      <td>0.0</td>\n",
              "      <td>0.0</td>\n",
              "      <td>0.0</td>\n",
              "      <td>0.0</td>\n",
              "      <td>0.0</td>\n",
              "      <td>0.0</td>\n",
              "      <td>0.0</td>\n",
              "      <td>0.0</td>\n",
              "      <td>0.0</td>\n",
              "      <td>0.0</td>\n",
              "      <td>0.0</td>\n",
              "      <td>0.0</td>\n",
              "      <td>0.0</td>\n",
              "      <td>0.0</td>\n",
              "      <td>0.0</td>\n",
              "      <td>0.0</td>\n",
              "      <td>0.0</td>\n",
              "      <td>0.0</td>\n",
              "      <td>0.0</td>\n",
              "      <td>0.0</td>\n",
              "      <td>0.0</td>\n",
              "      <td>...</td>\n",
              "      <td>0.0</td>\n",
              "      <td>0.0</td>\n",
              "      <td>0.0</td>\n",
              "      <td>0.0</td>\n",
              "      <td>0.000000</td>\n",
              "      <td>0.0</td>\n",
              "      <td>0.0</td>\n",
              "      <td>0.0</td>\n",
              "      <td>0.0</td>\n",
              "      <td>0.0</td>\n",
              "      <td>0.0</td>\n",
              "      <td>0.0</td>\n",
              "      <td>0.0</td>\n",
              "      <td>0.0</td>\n",
              "      <td>0.0</td>\n",
              "      <td>0.0</td>\n",
              "      <td>0.0</td>\n",
              "      <td>0.0</td>\n",
              "      <td>0.0</td>\n",
              "      <td>0.0</td>\n",
              "      <td>0.000000</td>\n",
              "      <td>0.0</td>\n",
              "      <td>0.0</td>\n",
              "      <td>0.0</td>\n",
              "      <td>0.0</td>\n",
              "      <td>0.0</td>\n",
              "      <td>0.0</td>\n",
              "      <td>0.0</td>\n",
              "      <td>0.0</td>\n",
              "      <td>0.0</td>\n",
              "      <td>0.0</td>\n",
              "      <td>0.000000</td>\n",
              "      <td>0.0</td>\n",
              "      <td>0.0</td>\n",
              "      <td>0.0</td>\n",
              "      <td>0.0</td>\n",
              "      <td>0.0</td>\n",
              "      <td>0.0</td>\n",
              "      <td>0.0</td>\n",
              "      <td>0.0</td>\n",
              "    </tr>\n",
              "    <tr>\n",
              "      <th>3</th>\n",
              "      <td>0.0</td>\n",
              "      <td>0.0</td>\n",
              "      <td>0.0</td>\n",
              "      <td>0.0</td>\n",
              "      <td>0.0</td>\n",
              "      <td>0.0</td>\n",
              "      <td>0.0</td>\n",
              "      <td>0.0</td>\n",
              "      <td>0.0</td>\n",
              "      <td>0.0</td>\n",
              "      <td>0.0</td>\n",
              "      <td>0.0</td>\n",
              "      <td>0.0</td>\n",
              "      <td>0.0</td>\n",
              "      <td>0.0</td>\n",
              "      <td>0.0</td>\n",
              "      <td>0.0</td>\n",
              "      <td>0.0</td>\n",
              "      <td>0.0</td>\n",
              "      <td>0.0</td>\n",
              "      <td>0.0</td>\n",
              "      <td>0.0</td>\n",
              "      <td>0.0</td>\n",
              "      <td>0.0</td>\n",
              "      <td>0.0</td>\n",
              "      <td>0.0</td>\n",
              "      <td>0.0</td>\n",
              "      <td>0.0</td>\n",
              "      <td>0.0</td>\n",
              "      <td>0.0</td>\n",
              "      <td>0.0</td>\n",
              "      <td>0.0</td>\n",
              "      <td>0.0</td>\n",
              "      <td>0.0</td>\n",
              "      <td>0.0</td>\n",
              "      <td>0.0</td>\n",
              "      <td>0.0</td>\n",
              "      <td>0.0</td>\n",
              "      <td>0.0</td>\n",
              "      <td>0.0</td>\n",
              "      <td>...</td>\n",
              "      <td>0.0</td>\n",
              "      <td>0.0</td>\n",
              "      <td>0.0</td>\n",
              "      <td>0.0</td>\n",
              "      <td>0.000000</td>\n",
              "      <td>0.0</td>\n",
              "      <td>0.0</td>\n",
              "      <td>0.0</td>\n",
              "      <td>0.0</td>\n",
              "      <td>0.0</td>\n",
              "      <td>0.0</td>\n",
              "      <td>0.0</td>\n",
              "      <td>0.0</td>\n",
              "      <td>0.0</td>\n",
              "      <td>0.0</td>\n",
              "      <td>0.0</td>\n",
              "      <td>0.0</td>\n",
              "      <td>0.0</td>\n",
              "      <td>0.0</td>\n",
              "      <td>0.0</td>\n",
              "      <td>0.000000</td>\n",
              "      <td>0.0</td>\n",
              "      <td>0.0</td>\n",
              "      <td>0.0</td>\n",
              "      <td>0.0</td>\n",
              "      <td>0.0</td>\n",
              "      <td>0.0</td>\n",
              "      <td>0.0</td>\n",
              "      <td>0.0</td>\n",
              "      <td>0.0</td>\n",
              "      <td>0.0</td>\n",
              "      <td>0.000000</td>\n",
              "      <td>0.0</td>\n",
              "      <td>0.0</td>\n",
              "      <td>0.0</td>\n",
              "      <td>0.0</td>\n",
              "      <td>0.0</td>\n",
              "      <td>0.0</td>\n",
              "      <td>0.0</td>\n",
              "      <td>0.0</td>\n",
              "    </tr>\n",
              "    <tr>\n",
              "      <th>4</th>\n",
              "      <td>0.0</td>\n",
              "      <td>0.0</td>\n",
              "      <td>0.0</td>\n",
              "      <td>0.0</td>\n",
              "      <td>0.0</td>\n",
              "      <td>0.0</td>\n",
              "      <td>0.0</td>\n",
              "      <td>0.0</td>\n",
              "      <td>0.0</td>\n",
              "      <td>0.0</td>\n",
              "      <td>0.0</td>\n",
              "      <td>0.0</td>\n",
              "      <td>0.0</td>\n",
              "      <td>0.0</td>\n",
              "      <td>0.0</td>\n",
              "      <td>0.0</td>\n",
              "      <td>0.0</td>\n",
              "      <td>0.0</td>\n",
              "      <td>0.0</td>\n",
              "      <td>0.0</td>\n",
              "      <td>0.0</td>\n",
              "      <td>0.0</td>\n",
              "      <td>0.0</td>\n",
              "      <td>0.0</td>\n",
              "      <td>0.0</td>\n",
              "      <td>0.0</td>\n",
              "      <td>0.0</td>\n",
              "      <td>0.0</td>\n",
              "      <td>0.0</td>\n",
              "      <td>0.0</td>\n",
              "      <td>0.0</td>\n",
              "      <td>0.0</td>\n",
              "      <td>0.0</td>\n",
              "      <td>0.0</td>\n",
              "      <td>0.0</td>\n",
              "      <td>0.0</td>\n",
              "      <td>0.0</td>\n",
              "      <td>0.0</td>\n",
              "      <td>0.0</td>\n",
              "      <td>0.0</td>\n",
              "      <td>...</td>\n",
              "      <td>0.0</td>\n",
              "      <td>0.0</td>\n",
              "      <td>0.0</td>\n",
              "      <td>0.0</td>\n",
              "      <td>0.000000</td>\n",
              "      <td>0.0</td>\n",
              "      <td>0.0</td>\n",
              "      <td>0.0</td>\n",
              "      <td>0.0</td>\n",
              "      <td>0.0</td>\n",
              "      <td>0.0</td>\n",
              "      <td>0.0</td>\n",
              "      <td>0.0</td>\n",
              "      <td>0.0</td>\n",
              "      <td>0.0</td>\n",
              "      <td>0.0</td>\n",
              "      <td>0.0</td>\n",
              "      <td>0.0</td>\n",
              "      <td>0.0</td>\n",
              "      <td>0.0</td>\n",
              "      <td>0.000000</td>\n",
              "      <td>0.0</td>\n",
              "      <td>0.0</td>\n",
              "      <td>0.0</td>\n",
              "      <td>0.0</td>\n",
              "      <td>0.0</td>\n",
              "      <td>0.0</td>\n",
              "      <td>0.0</td>\n",
              "      <td>0.0</td>\n",
              "      <td>0.0</td>\n",
              "      <td>0.0</td>\n",
              "      <td>0.000000</td>\n",
              "      <td>0.0</td>\n",
              "      <td>0.0</td>\n",
              "      <td>0.0</td>\n",
              "      <td>0.0</td>\n",
              "      <td>0.0</td>\n",
              "      <td>0.0</td>\n",
              "      <td>0.0</td>\n",
              "      <td>0.0</td>\n",
              "    </tr>\n",
              "    <tr>\n",
              "      <th>5</th>\n",
              "      <td>0.0</td>\n",
              "      <td>0.0</td>\n",
              "      <td>0.0</td>\n",
              "      <td>0.0</td>\n",
              "      <td>0.0</td>\n",
              "      <td>0.0</td>\n",
              "      <td>0.0</td>\n",
              "      <td>0.0</td>\n",
              "      <td>0.0</td>\n",
              "      <td>0.0</td>\n",
              "      <td>0.0</td>\n",
              "      <td>0.0</td>\n",
              "      <td>0.0</td>\n",
              "      <td>0.0</td>\n",
              "      <td>0.0</td>\n",
              "      <td>0.0</td>\n",
              "      <td>0.0</td>\n",
              "      <td>0.0</td>\n",
              "      <td>0.0</td>\n",
              "      <td>0.0</td>\n",
              "      <td>0.0</td>\n",
              "      <td>0.0</td>\n",
              "      <td>0.0</td>\n",
              "      <td>0.0</td>\n",
              "      <td>0.0</td>\n",
              "      <td>0.0</td>\n",
              "      <td>0.0</td>\n",
              "      <td>0.0</td>\n",
              "      <td>0.0</td>\n",
              "      <td>0.0</td>\n",
              "      <td>0.0</td>\n",
              "      <td>0.0</td>\n",
              "      <td>0.0</td>\n",
              "      <td>0.0</td>\n",
              "      <td>0.0</td>\n",
              "      <td>0.0</td>\n",
              "      <td>0.0</td>\n",
              "      <td>0.0</td>\n",
              "      <td>0.0</td>\n",
              "      <td>0.0</td>\n",
              "      <td>...</td>\n",
              "      <td>0.0</td>\n",
              "      <td>0.0</td>\n",
              "      <td>0.0</td>\n",
              "      <td>0.0</td>\n",
              "      <td>0.000000</td>\n",
              "      <td>0.0</td>\n",
              "      <td>0.0</td>\n",
              "      <td>0.0</td>\n",
              "      <td>0.0</td>\n",
              "      <td>0.0</td>\n",
              "      <td>0.0</td>\n",
              "      <td>0.0</td>\n",
              "      <td>0.0</td>\n",
              "      <td>0.0</td>\n",
              "      <td>0.0</td>\n",
              "      <td>0.0</td>\n",
              "      <td>0.0</td>\n",
              "      <td>0.0</td>\n",
              "      <td>0.0</td>\n",
              "      <td>0.0</td>\n",
              "      <td>0.000000</td>\n",
              "      <td>0.0</td>\n",
              "      <td>0.0</td>\n",
              "      <td>0.0</td>\n",
              "      <td>0.0</td>\n",
              "      <td>0.0</td>\n",
              "      <td>0.0</td>\n",
              "      <td>0.0</td>\n",
              "      <td>0.0</td>\n",
              "      <td>0.0</td>\n",
              "      <td>0.0</td>\n",
              "      <td>0.000000</td>\n",
              "      <td>0.0</td>\n",
              "      <td>0.0</td>\n",
              "      <td>0.0</td>\n",
              "      <td>0.0</td>\n",
              "      <td>0.0</td>\n",
              "      <td>0.0</td>\n",
              "      <td>0.0</td>\n",
              "      <td>0.0</td>\n",
              "    </tr>\n",
              "    <tr>\n",
              "      <th>6</th>\n",
              "      <td>0.0</td>\n",
              "      <td>0.0</td>\n",
              "      <td>0.0</td>\n",
              "      <td>0.0</td>\n",
              "      <td>0.0</td>\n",
              "      <td>0.0</td>\n",
              "      <td>0.0</td>\n",
              "      <td>0.0</td>\n",
              "      <td>0.0</td>\n",
              "      <td>0.0</td>\n",
              "      <td>0.0</td>\n",
              "      <td>0.0</td>\n",
              "      <td>0.0</td>\n",
              "      <td>0.0</td>\n",
              "      <td>0.0</td>\n",
              "      <td>0.0</td>\n",
              "      <td>0.0</td>\n",
              "      <td>0.0</td>\n",
              "      <td>0.0</td>\n",
              "      <td>0.0</td>\n",
              "      <td>0.0</td>\n",
              "      <td>0.0</td>\n",
              "      <td>0.0</td>\n",
              "      <td>0.0</td>\n",
              "      <td>0.0</td>\n",
              "      <td>0.0</td>\n",
              "      <td>0.0</td>\n",
              "      <td>0.0</td>\n",
              "      <td>0.0</td>\n",
              "      <td>0.0</td>\n",
              "      <td>0.0</td>\n",
              "      <td>0.0</td>\n",
              "      <td>0.0</td>\n",
              "      <td>0.0</td>\n",
              "      <td>0.0</td>\n",
              "      <td>0.0</td>\n",
              "      <td>0.0</td>\n",
              "      <td>0.0</td>\n",
              "      <td>0.0</td>\n",
              "      <td>0.0</td>\n",
              "      <td>...</td>\n",
              "      <td>0.0</td>\n",
              "      <td>0.0</td>\n",
              "      <td>0.0</td>\n",
              "      <td>0.0</td>\n",
              "      <td>0.000000</td>\n",
              "      <td>0.0</td>\n",
              "      <td>0.0</td>\n",
              "      <td>0.0</td>\n",
              "      <td>0.0</td>\n",
              "      <td>0.0</td>\n",
              "      <td>0.0</td>\n",
              "      <td>0.0</td>\n",
              "      <td>0.0</td>\n",
              "      <td>0.0</td>\n",
              "      <td>0.0</td>\n",
              "      <td>0.0</td>\n",
              "      <td>0.0</td>\n",
              "      <td>0.0</td>\n",
              "      <td>0.0</td>\n",
              "      <td>0.0</td>\n",
              "      <td>0.000000</td>\n",
              "      <td>0.0</td>\n",
              "      <td>0.0</td>\n",
              "      <td>0.0</td>\n",
              "      <td>0.0</td>\n",
              "      <td>0.0</td>\n",
              "      <td>0.0</td>\n",
              "      <td>0.0</td>\n",
              "      <td>0.0</td>\n",
              "      <td>0.0</td>\n",
              "      <td>0.0</td>\n",
              "      <td>0.000000</td>\n",
              "      <td>0.0</td>\n",
              "      <td>0.0</td>\n",
              "      <td>0.0</td>\n",
              "      <td>0.0</td>\n",
              "      <td>0.0</td>\n",
              "      <td>0.0</td>\n",
              "      <td>0.0</td>\n",
              "      <td>0.0</td>\n",
              "    </tr>\n",
              "    <tr>\n",
              "      <th>7</th>\n",
              "      <td>0.0</td>\n",
              "      <td>0.0</td>\n",
              "      <td>0.0</td>\n",
              "      <td>0.0</td>\n",
              "      <td>0.0</td>\n",
              "      <td>0.0</td>\n",
              "      <td>0.0</td>\n",
              "      <td>0.0</td>\n",
              "      <td>0.0</td>\n",
              "      <td>0.0</td>\n",
              "      <td>0.0</td>\n",
              "      <td>0.0</td>\n",
              "      <td>0.0</td>\n",
              "      <td>0.0</td>\n",
              "      <td>0.0</td>\n",
              "      <td>0.0</td>\n",
              "      <td>0.0</td>\n",
              "      <td>0.0</td>\n",
              "      <td>0.0</td>\n",
              "      <td>0.0</td>\n",
              "      <td>0.0</td>\n",
              "      <td>0.0</td>\n",
              "      <td>0.0</td>\n",
              "      <td>0.0</td>\n",
              "      <td>0.0</td>\n",
              "      <td>0.0</td>\n",
              "      <td>0.0</td>\n",
              "      <td>0.0</td>\n",
              "      <td>0.0</td>\n",
              "      <td>0.0</td>\n",
              "      <td>0.0</td>\n",
              "      <td>0.0</td>\n",
              "      <td>0.0</td>\n",
              "      <td>0.0</td>\n",
              "      <td>0.0</td>\n",
              "      <td>0.0</td>\n",
              "      <td>0.0</td>\n",
              "      <td>0.0</td>\n",
              "      <td>0.0</td>\n",
              "      <td>0.0</td>\n",
              "      <td>...</td>\n",
              "      <td>0.0</td>\n",
              "      <td>0.0</td>\n",
              "      <td>0.0</td>\n",
              "      <td>0.0</td>\n",
              "      <td>0.132957</td>\n",
              "      <td>0.0</td>\n",
              "      <td>0.0</td>\n",
              "      <td>0.0</td>\n",
              "      <td>0.0</td>\n",
              "      <td>0.0</td>\n",
              "      <td>0.0</td>\n",
              "      <td>0.0</td>\n",
              "      <td>0.0</td>\n",
              "      <td>0.0</td>\n",
              "      <td>0.0</td>\n",
              "      <td>0.0</td>\n",
              "      <td>0.0</td>\n",
              "      <td>0.0</td>\n",
              "      <td>0.0</td>\n",
              "      <td>0.0</td>\n",
              "      <td>0.000000</td>\n",
              "      <td>0.0</td>\n",
              "      <td>0.0</td>\n",
              "      <td>0.0</td>\n",
              "      <td>0.0</td>\n",
              "      <td>0.0</td>\n",
              "      <td>0.0</td>\n",
              "      <td>0.0</td>\n",
              "      <td>0.0</td>\n",
              "      <td>0.0</td>\n",
              "      <td>0.0</td>\n",
              "      <td>0.214392</td>\n",
              "      <td>0.0</td>\n",
              "      <td>0.0</td>\n",
              "      <td>0.0</td>\n",
              "      <td>0.0</td>\n",
              "      <td>0.0</td>\n",
              "      <td>0.0</td>\n",
              "      <td>0.0</td>\n",
              "      <td>0.0</td>\n",
              "    </tr>\n",
              "    <tr>\n",
              "      <th>8</th>\n",
              "      <td>0.0</td>\n",
              "      <td>0.0</td>\n",
              "      <td>0.0</td>\n",
              "      <td>0.0</td>\n",
              "      <td>0.0</td>\n",
              "      <td>0.0</td>\n",
              "      <td>0.0</td>\n",
              "      <td>0.0</td>\n",
              "      <td>0.0</td>\n",
              "      <td>0.0</td>\n",
              "      <td>0.0</td>\n",
              "      <td>0.0</td>\n",
              "      <td>0.0</td>\n",
              "      <td>0.0</td>\n",
              "      <td>0.0</td>\n",
              "      <td>0.0</td>\n",
              "      <td>0.0</td>\n",
              "      <td>0.0</td>\n",
              "      <td>0.0</td>\n",
              "      <td>0.0</td>\n",
              "      <td>0.0</td>\n",
              "      <td>0.0</td>\n",
              "      <td>0.0</td>\n",
              "      <td>0.0</td>\n",
              "      <td>0.0</td>\n",
              "      <td>0.0</td>\n",
              "      <td>0.0</td>\n",
              "      <td>0.0</td>\n",
              "      <td>0.0</td>\n",
              "      <td>0.0</td>\n",
              "      <td>0.0</td>\n",
              "      <td>0.0</td>\n",
              "      <td>0.0</td>\n",
              "      <td>0.0</td>\n",
              "      <td>0.0</td>\n",
              "      <td>0.0</td>\n",
              "      <td>0.0</td>\n",
              "      <td>0.0</td>\n",
              "      <td>0.0</td>\n",
              "      <td>0.0</td>\n",
              "      <td>...</td>\n",
              "      <td>0.0</td>\n",
              "      <td>0.0</td>\n",
              "      <td>0.0</td>\n",
              "      <td>0.0</td>\n",
              "      <td>0.000000</td>\n",
              "      <td>0.0</td>\n",
              "      <td>0.0</td>\n",
              "      <td>0.0</td>\n",
              "      <td>0.0</td>\n",
              "      <td>0.0</td>\n",
              "      <td>0.0</td>\n",
              "      <td>0.0</td>\n",
              "      <td>0.0</td>\n",
              "      <td>0.0</td>\n",
              "      <td>0.0</td>\n",
              "      <td>0.0</td>\n",
              "      <td>0.0</td>\n",
              "      <td>0.0</td>\n",
              "      <td>0.0</td>\n",
              "      <td>0.0</td>\n",
              "      <td>0.193442</td>\n",
              "      <td>0.0</td>\n",
              "      <td>0.0</td>\n",
              "      <td>0.0</td>\n",
              "      <td>0.0</td>\n",
              "      <td>0.0</td>\n",
              "      <td>0.0</td>\n",
              "      <td>0.0</td>\n",
              "      <td>0.0</td>\n",
              "      <td>0.0</td>\n",
              "      <td>0.0</td>\n",
              "      <td>0.222627</td>\n",
              "      <td>0.0</td>\n",
              "      <td>0.0</td>\n",
              "      <td>0.0</td>\n",
              "      <td>0.0</td>\n",
              "      <td>0.0</td>\n",
              "      <td>0.0</td>\n",
              "      <td>0.0</td>\n",
              "      <td>0.0</td>\n",
              "    </tr>\n",
              "    <tr>\n",
              "      <th>9</th>\n",
              "      <td>0.0</td>\n",
              "      <td>0.0</td>\n",
              "      <td>0.0</td>\n",
              "      <td>0.0</td>\n",
              "      <td>0.0</td>\n",
              "      <td>0.0</td>\n",
              "      <td>0.0</td>\n",
              "      <td>0.0</td>\n",
              "      <td>0.0</td>\n",
              "      <td>0.0</td>\n",
              "      <td>0.0</td>\n",
              "      <td>0.0</td>\n",
              "      <td>0.0</td>\n",
              "      <td>0.0</td>\n",
              "      <td>0.0</td>\n",
              "      <td>0.0</td>\n",
              "      <td>0.0</td>\n",
              "      <td>0.0</td>\n",
              "      <td>0.0</td>\n",
              "      <td>0.0</td>\n",
              "      <td>0.0</td>\n",
              "      <td>0.0</td>\n",
              "      <td>0.0</td>\n",
              "      <td>0.0</td>\n",
              "      <td>0.0</td>\n",
              "      <td>0.0</td>\n",
              "      <td>0.0</td>\n",
              "      <td>0.0</td>\n",
              "      <td>0.0</td>\n",
              "      <td>0.0</td>\n",
              "      <td>0.0</td>\n",
              "      <td>0.0</td>\n",
              "      <td>0.0</td>\n",
              "      <td>0.0</td>\n",
              "      <td>0.0</td>\n",
              "      <td>0.0</td>\n",
              "      <td>0.0</td>\n",
              "      <td>0.0</td>\n",
              "      <td>0.0</td>\n",
              "      <td>0.0</td>\n",
              "      <td>...</td>\n",
              "      <td>0.0</td>\n",
              "      <td>0.0</td>\n",
              "      <td>0.0</td>\n",
              "      <td>0.0</td>\n",
              "      <td>0.000000</td>\n",
              "      <td>0.0</td>\n",
              "      <td>0.0</td>\n",
              "      <td>0.0</td>\n",
              "      <td>0.0</td>\n",
              "      <td>0.0</td>\n",
              "      <td>0.0</td>\n",
              "      <td>0.0</td>\n",
              "      <td>0.0</td>\n",
              "      <td>0.0</td>\n",
              "      <td>0.0</td>\n",
              "      <td>0.0</td>\n",
              "      <td>0.0</td>\n",
              "      <td>0.0</td>\n",
              "      <td>0.0</td>\n",
              "      <td>0.0</td>\n",
              "      <td>0.193442</td>\n",
              "      <td>0.0</td>\n",
              "      <td>0.0</td>\n",
              "      <td>0.0</td>\n",
              "      <td>0.0</td>\n",
              "      <td>0.0</td>\n",
              "      <td>0.0</td>\n",
              "      <td>0.0</td>\n",
              "      <td>0.0</td>\n",
              "      <td>0.0</td>\n",
              "      <td>0.0</td>\n",
              "      <td>0.222627</td>\n",
              "      <td>0.0</td>\n",
              "      <td>0.0</td>\n",
              "      <td>0.0</td>\n",
              "      <td>0.0</td>\n",
              "      <td>0.0</td>\n",
              "      <td>0.0</td>\n",
              "      <td>0.0</td>\n",
              "      <td>0.0</td>\n",
              "    </tr>\n",
              "  </tbody>\n",
              "</table>\n",
              "<p>10 rows × 1000 columns</p>\n",
              "</div>"
            ],
            "text/plain": [
              "    10  acorn  active  added  adobo  ...  yolks  yukon  zest  ziti  zucchini\n",
              "0  0.0    0.0     0.0    0.0    0.0  ...    0.0    0.0   0.0   0.0       0.0\n",
              "1  0.0    0.0     0.0    0.0    0.0  ...    0.0    0.0   0.0   0.0       0.0\n",
              "2  0.0    0.0     0.0    0.0    0.0  ...    0.0    0.0   0.0   0.0       0.0\n",
              "3  0.0    0.0     0.0    0.0    0.0  ...    0.0    0.0   0.0   0.0       0.0\n",
              "4  0.0    0.0     0.0    0.0    0.0  ...    0.0    0.0   0.0   0.0       0.0\n",
              "5  0.0    0.0     0.0    0.0    0.0  ...    0.0    0.0   0.0   0.0       0.0\n",
              "6  0.0    0.0     0.0    0.0    0.0  ...    0.0    0.0   0.0   0.0       0.0\n",
              "7  0.0    0.0     0.0    0.0    0.0  ...    0.0    0.0   0.0   0.0       0.0\n",
              "8  0.0    0.0     0.0    0.0    0.0  ...    0.0    0.0   0.0   0.0       0.0\n",
              "9  0.0    0.0     0.0    0.0    0.0  ...    0.0    0.0   0.0   0.0       0.0\n",
              "\n",
              "[10 rows x 1000 columns]"
            ]
          },
          "metadata": {
            "tags": []
          },
          "execution_count": 39
        }
      ]
    },
    {
      "cell_type": "code",
      "metadata": {
        "id": "j9_ndFKdSSJg",
        "colab_type": "code",
        "colab": {}
      },
      "source": [
        "# Using truncated SVD ON sparce matrix to reduce the dimentionality of data\n",
        "\n",
        "from sklearn.decomposition import TruncatedSVD\n",
        "model = TruncatedSVD(n_components = 60)\n",
        "ingredients_DF = model.fit_transform(ingredients_DF)\n"
      ],
      "execution_count": 0,
      "outputs": []
    },
    {
      "cell_type": "markdown",
      "metadata": {
        "id": "qWSnP8UhBejR",
        "colab_type": "text"
      },
      "source": [
        "Now we should find optimal no of clusters(k) for k-means clustering"
      ]
    },
    {
      "cell_type": "code",
      "metadata": {
        "id": "sl48YhmwBSQS",
        "colab_type": "code",
        "outputId": "cf43e800-2258-4907-dc57-5241dd0a36d4",
        "colab": {
          "base_uri": "https://localhost:8080/",
          "height": 409
        }
      },
      "source": [
        "\n",
        "\n",
        "#Passing the vectorized matrix created above to k-Means model for clustering\n",
        "ks = range(1, 10)\n",
        "inertias = []\n",
        "for k in ks:\n",
        "    # Create a KMeans instance with k clusters: model\n",
        "    model = KMeans(n_clusters=k, random_state=0, n_jobs = -1)\n",
        "    \n",
        "    # Fit model to samples\n",
        "    model.fit(ingredients_DF)\n",
        "    \n",
        "    # Append the inertia to the list of inertias\n",
        "    inertias.append(model.inertia_)\n",
        "    \n",
        "plt.style.use('ggplot')\n",
        "plt.figure(figsize=(10,5))\n",
        "plt.plot(ks, inertias, '-o', color='#FC4E4E')\n",
        "plt.xlabel('number of clusters, k')\n",
        "plt.ylabel('inertia')\n",
        "plt.xticks(ks)\n",
        "plt.show()\n"
      ],
      "execution_count": 0,
      "outputs": [
        {
          "output_type": "stream",
          "text": [
            "/usr/local/lib/python3.6/dist-packages/joblib/externals/loky/process_executor.py:706: UserWarning: A worker stopped while some jobs were given to the executor. This can be caused by a too short worker timeout or by a memory leak.\n",
            "  \"timeout or by a memory leak.\", UserWarning\n"
          ],
          "name": "stderr"
        },
        {
          "output_type": "display_data",
          "data": {
            "image/png": "[encoded data removed]",
            "text/plain": [
              "<Figure size 720x360 with 1 Axes>"
            ]
          },
          "metadata": {
            "tags": []
          }
        }
      ]
    },
    {
      "cell_type": "markdown",
      "metadata": {
        "id": "WSqTtJqdDYsU",
        "colab_type": "text"
      },
      "source": [
        "From the above plot, we cannot discern a K value easily. Even though the graph is not straightforward, we have reasonable doubt between values 4,5 & 6.\n",
        "\n",
        "In this case, we will need another method to find the optimal K from the values 4,5 & 6.\n",
        "\n",
        "We will use the silhouette score.\n",
        "\n",
        "Silhouette method measures how similar a point is to it’s own cluster compared to others.\n",
        "It is more likely a validation rather than a decision maker. Which is exactly what we want in this scenario.\n",
        "\n",
        "By using Euclidean distance as the metric, we will plot the graph for silhouette scores for the three values of K."
      ]
    },
    {
      "cell_type": "code",
      "metadata": {
        "id": "KB-B2Z2YDkNj",
        "colab_type": "code",
        "outputId": "e0683c5d-9cc0-4b3e-c188-bbf3755ceaba",
        "colab": {
          "base_uri": "https://localhost:8080/",
          "height": 352
        }
      },
      "source": [
        "\n",
        "#Passing the vectorized matrix created above to k-Means model for clustering\n",
        "kvalue = range(4, 7)\n",
        "sil = []\n",
        "\n",
        "for k in kvalue:\n",
        "    # Create a KMeans instance with k clusters: model\n",
        "    model = KMeans(n_clusters=k, random_state=0)\n",
        "    \n",
        "    # Fit model to samples\n",
        "    model.fit(ingredients_DF)\n",
        "    labels = model.labels_\n",
        "    sil.append(silhouette_score(ingredients_DF, labels, metric = 'euclidean'))\n",
        "\n",
        "plt.style.use('seaborn-darkgrid')\n",
        "plt.figure(figsize=(10,5))\n",
        "plt.plot(kvalue, sil, '-o', color='#FC4E4E')\n",
        "plt.xlabel('number of clusters, k')\n",
        "plt.ylabel('silhouette score')\n",
        "plt.xticks(kvalue)\n",
        "plt.show()\n"
      ],
      "execution_count": 0,
      "outputs": [
        {
          "output_type": "display_data",
          "data": {
            "image/png": "[encoded data removed]",
            "text/plain": [
              "<Figure size 720x360 with 1 Axes>"
            ]
          },
          "metadata": {
            "tags": []
          }
        }
      ]
    },
    {
      "cell_type": "markdown",
      "metadata": {
        "id": "M0BbN-BGXTEu",
        "colab_type": "text"
      },
      "source": [
        "From the above graph, we can say that the 6 is the most optimal value for K."
      ]
    },
    {
      "cell_type": "code",
      "metadata": {
        "id": "tdammUcSXUh9",
        "colab_type": "code",
        "outputId": "7cc4a5f9-98b6-47f3-ff71-5cc2889e557e",
        "colab": {
          "base_uri": "https://localhost:8080/",
          "height": 68
        }
      },
      "source": [
        "model = KMeans(n_clusters=6, random_state=0)\n",
        "model.fit(ingredients_DF)"
      ],
      "execution_count": 0,
      "outputs": [
        {
          "output_type": "execute_result",
          "data": {
            "text/plain": [
              "KMeans(algorithm='auto', copy_x=True, init='k-means++', max_iter=300,\n",
              "       n_clusters=6, n_init=10, n_jobs=None, precompute_distances='auto',\n",
              "       random_state=0, tol=0.0001, verbose=0)"
            ]
          },
          "metadata": {
            "tags": []
          },
          "execution_count": 44
        }
      ]
    },
    {
      "cell_type": "markdown",
      "metadata": {
        "id": "YYwIK08hXdWb",
        "colab_type": "text"
      },
      "source": [
        "The number of recipes in each cluster"
      ]
    },
    {
      "cell_type": "code",
      "metadata": {
        "id": "Z9_suAP0XiQd",
        "colab_type": "code",
        "outputId": "0a1648f4-9e0c-4e78-92b7-0123298f815c",
        "colab": {
          "base_uri": "https://localhost:8080/",
          "height": 180
        }
      },
      "source": [
        "Merged_Data2['ingredients_Cluster'] = model.labels_\n",
        "Merged_Data2['ingredients_Cluster'].value_counts()"
      ],
      "execution_count": 0,
      "outputs": [
        {
          "output_type": "error",
          "ename": "NameError",
          "evalue": "ignored",
          "traceback": [
            "\u001b[0;31m---------------------------------------------------------------------------\u001b[0m",
            "\u001b[0;31mNameError\u001b[0m                                 Traceback (most recent call last)",
            "\u001b[0;32m<ipython-input-1-1aafff863543>\u001b[0m in \u001b[0;36m<module>\u001b[0;34m()\u001b[0m\n\u001b[0;32m----> 1\u001b[0;31m \u001b[0mMerged_Data2\u001b[0m\u001b[0;34m[\u001b[0m\u001b[0;34m'ingredients_Cluster'\u001b[0m\u001b[0;34m]\u001b[0m \u001b[0;34m=\u001b[0m \u001b[0mmodel\u001b[0m\u001b[0;34m.\u001b[0m\u001b[0mlabels_\u001b[0m\u001b[0;34m\u001b[0m\u001b[0;34m\u001b[0m\u001b[0m\n\u001b[0m\u001b[1;32m      2\u001b[0m \u001b[0mMerged_Data2\u001b[0m\u001b[0;34m[\u001b[0m\u001b[0;34m'ingredients_Cluster'\u001b[0m\u001b[0;34m]\u001b[0m\u001b[0;34m.\u001b[0m\u001b[0mvalue_counts\u001b[0m\u001b[0;34m(\u001b[0m\u001b[0;34m)\u001b[0m\u001b[0;34m\u001b[0m\u001b[0;34m\u001b[0m\u001b[0m\n",
            "\u001b[0;31mNameError\u001b[0m: name 'model' is not defined"
          ]
        }
      ]
    },
    {
      "cell_type": "markdown",
      "metadata": {
        "id": "0hPypWc0az3k",
        "colab_type": "text"
      },
      "source": [
        "Now we will look at top-ingredients in each of our clusters."
      ]
    },
    {
      "cell_type": "code",
      "metadata": {
        "id": "BkaoeRoqa3hK",
        "colab_type": "code",
        "outputId": "d656bee0-0aa7-4aa0-c7d9-0684b4034a43",
        "colab": {
          "base_uri": "https://localhost:8080/",
          "height": 375
        }
      },
      "source": [
        "print('\\nCrucial ingredients for each clusters: \\n')\n",
        "features = vectorize.get_feature_names()\n",
        "centroids = model.cluster_centers_.argsort()[:,::-1]\n",
        "for clust in range(0,6):\n",
        "    print('Cluster '+str(clust)+': ')\n",
        "    for ind in centroids[clust, :15]:\n",
        "        print(features[ind]+' ', end='')\n",
        "    print()\n",
        "    print()"
      ],
      "execution_count": 0,
      "outputs": [
        {
          "output_type": "stream",
          "text": [
            "\n",
            "Crucial ingredients for each clusters: \n",
            "\n",
            "Cluster 0: \n",
            "10 added ale apricots albacore ancho aluminum bars artichokes baked asiago barbecue bag artichoke baileys \n",
            "\n",
            "Cluster 1: \n",
            "10 adobo applesauce almond ancho almonds arborio artificial asparagus andouille barbecue bagels base alfredo bag \n",
            "\n",
            "Cluster 2: \n",
            "10 acorn almonds ale allspice almond artificial angel apricot artichokes asiago apricots anchovy amarula avocado \n",
            "\n",
            "Cluster 3: \n",
            "10 acorn adobo albacore agave amaretto artichoke apple alfredo anise bacon apples applesauce arborio ancho \n",
            "\n",
            "Cluster 4: \n",
            "10 agave alfredo added active american allspice almond amaretto anise asiago andouille bacon bagels banana \n",
            "\n",
            "Cluster 5: \n",
            "10 active angel albacore adobo anchovy amarula arborio amaretto baby basmati bag arugula apples barley \n",
            "\n"
          ],
          "name": "stdout"
        }
      ]
    },
    {
      "cell_type": "markdown",
      "metadata": {
        "id": "STOHjdmpkSX2",
        "colab_type": "text"
      },
      "source": [
        "Summarizing the data on Cluster number to look at some properties"
      ]
    },
    {
      "cell_type": "code",
      "metadata": {
        "id": "7eD3pZZ8j78X",
        "colab_type": "code",
        "colab": {}
      },
      "source": [
        "results = Merged_Data2.groupby(['ingredients_Cluster']).mean().sort_values(\"mean_rating\",ascending=True)\n",
        "results"
      ],
      "execution_count": 0,
      "outputs": []
    },
    {
      "cell_type": "markdown",
      "metadata": {
        "id": "5NS-C-BsDYRD",
        "colab_type": "text"
      },
      "source": [
        "# Market Baset Analysis on Ingredients using Apriori"
      ]
    },
    {
      "cell_type": "markdown",
      "metadata": {
        "id": "LAMq3Q_SNzSJ",
        "colab_type": "text"
      },
      "source": [
        "If This Food.com wants to sell ingredients then when is the  best we we can increase the sales of the ingredients?\n",
        "\n",
        "We should find a way to recommend additional products to customers based on what they have in cart.\n",
        "\n",
        "The best way to do this is by using market basket analysis by implementing Apriori algorithm.\n",
        "\n",
        "As we already have the common ingredients for a recipe as a list. We can use those lists to give input to apriori algorithm for it to learn the associations."
      ]
    },
    {
      "cell_type": "code",
      "metadata": {
        "id": "6hgG6kn0ZFJ4",
        "colab_type": "code",
        "colab": {}
      },
      "source": [
        "\n",
        "\n",
        "Merged_Data2['ingredient_list'] = [z.split(\",\") for z in Merged_Data2['ingredients']]\n",
        "\n"
      ],
      "execution_count": 0,
      "outputs": []
    },
    {
      "cell_type": "code",
      "metadata": {
        "id": "BOwyGGxjivyy",
        "colab_type": "code",
        "outputId": "5e63cc05-c2e5-4c98-c4a5-68cd6b0f1e43",
        "colab": {
          "base_uri": "https://localhost:8080/",
          "height": 221
        }
      },
      "source": [
        "Merged_Data2['ingredient_list'][1:888]\n"
      ],
      "execution_count": 0,
      "outputs": [
        {
          "output_type": "execute_result",
          "data": {
            "text/plain": [
              "1       [winter squash, mexican seasoning, mixed spice...\n",
              "2       [winter squash, mexican seasoning, mixed spice...\n",
              "3       [prepared pizza crust, sausage patty, eggs, mi...\n",
              "4       [prepared pizza crust, sausage patty, eggs, mi...\n",
              "5       [prepared pizza crust, sausage patty, eggs, mi...\n",
              "                              ...                        \n",
              "1783         [ouzo, orange juice, ice cube, orange slice]\n",
              "1784         [ouzo, orange juice, ice cube, orange slice]\n",
              "1785         [ouzo, orange juice, ice cube, orange slice]\n",
              "1786         [ouzo, orange juice, ice cube, orange slice]\n",
              "1787         [ouzo, orange juice, ice cube, orange slice]\n",
              "Name: ingredient_list, Length: 887, dtype: object"
            ]
          },
          "metadata": {
            "tags": []
          },
          "execution_count": 119
        }
      ]
    },
    {
      "cell_type": "markdown",
      "metadata": {
        "id": "eUv1jww-k6Db",
        "colab_type": "text"
      },
      "source": [
        "I tried many parameter values of Support, Confidence and Lift for apriori model.I've selected min_support to be 0.0060, min_confidence=0.6, min_lift=3 as desired values for our Apriori algorithm."
      ]
    },
    {
      "cell_type": "markdown",
      "metadata": {
        "id": "YBe1pbPQnXLF",
        "colab_type": "text"
      },
      "source": [
        "Running Apriori algorithm on the Ingredients list of lists "
      ]
    },
    {
      "cell_type": "code",
      "metadata": {
        "id": "WESy2BBFnMTO",
        "colab_type": "code",
        "outputId": "de24c15e-b3fa-4987-a0c9-1cacb284a88a",
        "colab": {
          "base_uri": "https://localhost:8080/",
          "height": 1000
        }
      },
      "source": [
        "\n",
        "associationRules = apriori(Merged_Data2['ingredient_list'], min_support=0.0040, min_confidence=0.4, min_lift=3, min_length=5,max_length=None)\n",
        "associationResult = list(associationRules)\n",
        "\n",
        "print(\"\\n\\nNumber of Rules:\")\n",
        "print(len(associationResult))\n",
        "\n",
        "print(\"\\n\\nExample of a rule:\")\n",
        "print(associationResult[1])\n",
        "print(\"\\n\\n\")\n",
        "\n",
        "associationResult10=associationResult[50:60]\n",
        "\n",
        "print(\"Listing 10 rules:\\n\")\n",
        "for item in associationResult10:\n",
        "    pair = item[0] \n",
        "    items = [x for x in pair]\n",
        "    print(\"Rule: \" + items[0] + \" --> \" + items[1])\n",
        "    print(\"Support: \" + str(item[1]))\n",
        "    print(\"Confidence: \" + str(item[2][0][2]))\n",
        "    print(\"Lift: \" + str(item[2][0][3]))\n",
        "    print(\"~~~~~~~~~~~~~~~~~~~~~~~~~~~~~~~~~~\")"
      ],
      "execution_count": 0,
      "outputs": [
        {
          "output_type": "stream",
          "text": [
            "\n",
            "\n",
            "Number of Rules:\n",
            "1021\n",
            "\n",
            "\n",
            "Example of a rule:\n",
            "RelationRecord(items=frozenset({'all-purpose flour', 'baking powder'}), support=0.03381220755096261, ordered_statistics=[OrderedStatistic(items_base=frozenset({'all-purpose flour'}), items_add=frozenset({'baking powder'}), confidence=0.40432326209776465, lift=4.1652134845024325)])\n",
            "\n",
            "\n",
            "\n",
            "Listing 10 rules:\n",
            "\n",
            "Rule: italian seasoning --> parmesan cheese\n",
            "Support: 0.0048567265662943174\n",
            "Confidence: 0.42528587948091995\n",
            "Lift: 5.439721114741134\n",
            "~~~~~~~~~~~~~~~~~~~~~~~~~~~~~~~~~~\n",
            "Rule: onion --> lean ground beef\n",
            "Support: 0.008271108052628722\n",
            "Confidence: 0.6111231569817867\n",
            "Lift: 3.697243291711925\n",
            "~~~~~~~~~~~~~~~~~~~~~~~~~~~~~~~~~~\n",
            "Rule: parmesan cheese --> mozzarella cheese\n",
            "Support: 0.011751517543640844\n",
            "Confidence: 0.5068345779015315\n",
            "Lift: 6.4827893144652675\n",
            "~~~~~~~~~~~~~~~~~~~~~~~~~~~~~~~~~~\n",
            "Rule: red wine vinegar --> olive oil\n",
            "Support: 0.005556623415878121\n",
            "Confidence: 0.44060500290866783\n",
            "Lift: 3.078300003355662\n",
            "~~~~~~~~~~~~~~~~~~~~~~~~~~~~~~~~~~\n",
            "Rule: sea salt --> olive oil\n",
            "Support: 0.004855259277301479\n",
            "Confidence: 0.4353947368421053\n",
            "Lift: 3.041898323973215\n",
            "~~~~~~~~~~~~~~~~~~~~~~~~~~~~~~~~~~\n",
            "Rule: potato --> onion\n",
            "Support: 0.004190577363545792\n",
            "Confidence: 0.6230366492146596\n",
            "Lift: 3.769318909753289\n",
            "~~~~~~~~~~~~~~~~~~~~~~~~~~~~~~~~~~\n",
            "Rule: onion --> tomato paste\n",
            "Support: 0.007009239518787902\n",
            "Confidence: 0.515207075064711\n",
            "Lift: 3.116959127409232\n",
            "~~~~~~~~~~~~~~~~~~~~~~~~~~~~~~~~~~\n",
            "Rule: onion --> tomato sauce\n",
            "Support: 0.011598919488385673\n",
            "Confidence: 0.5905864774000746\n",
            "Lift: 3.5729981212416706\n",
            "~~~~~~~~~~~~~~~~~~~~~~~~~~~~~~~~~~\n",
            "Rule: soy sauce --> sesame oil\n",
            "Support: 0.00826523889665737\n",
            "Confidence: 0.6126821840330651\n",
            "Lift: 16.3301007509531\n",
            "~~~~~~~~~~~~~~~~~~~~~~~~~~~~~~~~~~\n",
            "Rule: shortening --> sugar\n",
            "Support: 0.0068493050185685425\n",
            "Confidence: 0.5710790310741375\n",
            "Lift: 3.065393807643862\n",
            "~~~~~~~~~~~~~~~~~~~~~~~~~~~~~~~~~~\n"
          ],
          "name": "stdout"
        }
      ]
    },
    {
      "cell_type": "markdown",
      "metadata": {
        "id": "Ome_JwHnwlAg",
        "colab_type": "text"
      },
      "source": [
        "# References"
      ]
    },
    {
      "cell_type": "markdown",
      "metadata": {
        "id": "9GNevIDDw__n",
        "colab_type": "text"
      },
      "source": [
        "\n",
        "*   https://stackabuse.comassociation-rule-mining-via-apriori-algorithm-in-python/\n",
        "\n",
        "*   \n",
        "https://www.kaggle.com/kaggle/recipe-ingredients-dataset/data#\n",
        "\n",
        "\n",
        "*  remove urls from text python: https://stackoverflow.com/a/40823105/4084039 \n",
        "\n",
        "* Extract text from html # https://stackoverflow.com/questions/16206380/\n",
        "\n",
        "* python-beautifulsoup-how-to-remove-all-tags-from-an-element\n",
        "\n",
        "* remove words with numbers python: https://stackoverflow.com/a/18082370/4084039\n",
        "\n",
        "* remove spacial character: https://stackoverflow.com/a/5843547/4084039\n",
        "\n",
        "*  decontract text # https://stackoverflow.com/a/47091490/4084039\n",
        "\n"
      ]
    }
  ]
}